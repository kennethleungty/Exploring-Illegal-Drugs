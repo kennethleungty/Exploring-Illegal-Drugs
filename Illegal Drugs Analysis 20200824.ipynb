{
 "cells": [
  {
   "cell_type": "markdown",
   "metadata": {},
   "source": [
    "## Analysis of Singapore counterfeit drugs\n",
    "- Author: Kenneth Leung (https://linkedin.com/in/kennethleungty)\n",
    "- Date of analysis: 15 August 2020  \n",
    "- Data Source: https://oscar.hsa.gov.sg/Publication/ahpdm/faces/AHPPublication.jspx?_afrLoop=100428428947200776&_afrWindowMode=0&_adf.ctrl-state=hz7d8w1f_58"
   ]
  },
  {
   "cell_type": "markdown",
   "metadata": {},
   "source": [
    "## Step 1 - Data Curation"
   ]
  },
  {
   "cell_type": "markdown",
   "metadata": {},
   "source": [
    "- Copy paste from HSA OSCAR site into Notepad++, then saved as text file\n",
    "- Omitted Images in this analysis\n",
    "- Import text file into Microsoft Excel using the Tab Delimited option, and manually added row headers in Excel sheet\n",
    "- Save the sheet as xlsx file\n",
    "___"
   ]
  },
  {
   "cell_type": "markdown",
   "metadata": {},
   "source": [
    "## Step 2 - Data Exploration and Cleaning"
   ]
  },
  {
   "cell_type": "code",
   "execution_count": 83,
   "metadata": {},
   "outputs": [],
   "source": [
    "import numpy as np\n",
    "import pandas as pd\n",
    "import matplotlib\n",
    "import matplotlib.pyplot as plt\n",
    "import seaborn as sns\n",
    "import warnings\n",
    "warnings.filterwarnings(\"ignore\")\n",
    "from wordcloud import WordCloud\n",
    "import jieba\n",
    "import re\n",
    "from os import path\n",
    "from collections import Counter \n",
    "\n",
    "%matplotlib inline\n",
    "sns.set_style('darkgrid')"
   ]
  },
  {
   "cell_type": "code",
   "execution_count": 104,
   "metadata": {},
   "outputs": [],
   "source": [
    "matplotlib.rc('font', size=14)"
   ]
  },
  {
   "cell_type": "code",
   "execution_count": 2,
   "metadata": {},
   "outputs": [],
   "source": [
    "font_path = 'C:\\Windows\\Fonts\\simhei.ttf'"
   ]
  },
  {
   "cell_type": "code",
   "execution_count": 3,
   "metadata": {},
   "outputs": [],
   "source": [
    "df_all = pd.read_excel(r\"Cleaned Dataset 20200824.xlsx\")"
   ]
  },
  {
   "cell_type": "code",
   "execution_count": 4,
   "metadata": {},
   "outputs": [
    {
     "data": {
      "text/plain": [
       "245"
      ]
     },
     "execution_count": 4,
     "metadata": {},
     "output_type": "execute_result"
    }
   ],
   "source": [
    "len(df_all)"
   ]
  },
  {
   "cell_type": "code",
   "execution_count": 5,
   "metadata": {
    "scrolled": true
   },
   "outputs": [
    {
     "data": {
      "text/html": [
       "<div>\n",
       "<style scoped>\n",
       "    .dataframe tbody tr th:only-of-type {\n",
       "        vertical-align: middle;\n",
       "    }\n",
       "\n",
       "    .dataframe tbody tr th {\n",
       "        vertical-align: top;\n",
       "    }\n",
       "\n",
       "    .dataframe thead th {\n",
       "        text-align: right;\n",
       "    }\n",
       "</style>\n",
       "<table border=\"1\" class=\"dataframe\">\n",
       "  <thead>\n",
       "    <tr style=\"text-align: right;\">\n",
       "      <th></th>\n",
       "      <th>SN</th>\n",
       "      <th>Product Description</th>\n",
       "      <th>Dosage Form</th>\n",
       "      <th>Dosage Form Color</th>\n",
       "      <th>Dosage Form Shape</th>\n",
       "      <th>Dosage Form Marking</th>\n",
       "      <th>Remarks for Dosage Form Marking</th>\n",
       "      <th>Adulterants</th>\n",
       "    </tr>\n",
       "  </thead>\n",
       "  <tbody>\n",
       "    <tr>\n",
       "      <th>35</th>\n",
       "      <td>36</td>\n",
       "      <td>Bull's Genital male sexual stimulant</td>\n",
       "      <td>Capsule</td>\n",
       "      <td>Yellow</td>\n",
       "      <td>Oval</td>\n",
       "      <td>No</td>\n",
       "      <td></td>\n",
       "      <td>Sildenafil</td>\n",
       "    </tr>\n",
       "    <tr>\n",
       "      <th>208</th>\n",
       "      <td>209</td>\n",
       "      <td>JinMaoShiWang 1500mg Tablet (金毛狮王片)</td>\n",
       "      <td></td>\n",
       "      <td>Brown</td>\n",
       "      <td>Teardrop</td>\n",
       "      <td>Yes</td>\n",
       "      <td>SV</td>\n",
       "      <td>Sildenafil</td>\n",
       "    </tr>\n",
       "    <tr>\n",
       "      <th>65</th>\n",
       "      <td>66</td>\n",
       "      <td>SHEN QI DAN BAI NIAN CAO YAO '神奇丹 百年草药’</td>\n",
       "      <td>Capsule</td>\n",
       "      <td>Brown</td>\n",
       "      <td>Oblong</td>\n",
       "      <td>No</td>\n",
       "      <td></td>\n",
       "      <td></td>\n",
       "    </tr>\n",
       "    <tr>\n",
       "      <th>58</th>\n",
       "      <td>59</td>\n",
       "      <td>Surut Ayu Jamu Herbal Ramuan Alami</td>\n",
       "      <td>Capsule</td>\n",
       "      <td>Red ;White</td>\n",
       "      <td>Oblong</td>\n",
       "      <td>No</td>\n",
       "      <td></td>\n",
       "      <td>Sibutramine</td>\n",
       "    </tr>\n",
       "    <tr>\n",
       "      <th>101</th>\n",
       "      <td>102</td>\n",
       "      <td>Li Long Brand Xi Yu Shen Bao 2800mg Tablet (力龙...</td>\n",
       "      <td></td>\n",
       "      <td>Brown</td>\n",
       "      <td>Teardrop</td>\n",
       "      <td>Yes</td>\n",
       "      <td>力龙</td>\n",
       "      <td>Sildenafil</td>\n",
       "    </tr>\n",
       "    <tr>\n",
       "      <th>128</th>\n",
       "      <td>129</td>\n",
       "      <td>expressherbals No.1 Mens Supplement Worldwide ...</td>\n",
       "      <td>Capsule</td>\n",
       "      <td>White</td>\n",
       "      <td>Oblong</td>\n",
       "      <td>No</td>\n",
       "      <td></td>\n",
       "      <td>Sildenafil</td>\n",
       "    </tr>\n",
       "    <tr>\n",
       "      <th>173</th>\n",
       "      <td>174</td>\n",
       "      <td>Li Zhi Yuan Brand Qiang Jing Wei Ge Wang Wu Bi...</td>\n",
       "      <td></td>\n",
       "      <td>Blue</td>\n",
       "      <td>Diamond</td>\n",
       "      <td>Yes</td>\n",
       "      <td>800mg</td>\n",
       "      <td>Lignocaine ;Sildenafil ;Tadalafil ;Theophyllin...</td>\n",
       "    </tr>\n",
       "    <tr>\n",
       "      <th>45</th>\n",
       "      <td>46</td>\n",
       "      <td>Li Long Brand Ling Tou Lang 2800mg Capsule (力龙...</td>\n",
       "      <td>Capsule</td>\n",
       "      <td>Blue ;White</td>\n",
       "      <td>Oblong</td>\n",
       "      <td>Yes</td>\n",
       "      <td>力龙生物</td>\n",
       "      <td>Sildenafil</td>\n",
       "    </tr>\n",
       "    <tr>\n",
       "      <th>66</th>\n",
       "      <td>67</td>\n",
       "      <td>Ricalinu</td>\n",
       "      <td>Capsule</td>\n",
       "      <td>Black ;Yellow</td>\n",
       "      <td>Oblong</td>\n",
       "      <td>No</td>\n",
       "      <td></td>\n",
       "      <td>Meloxicam ;Tramadol</td>\n",
       "    </tr>\n",
       "    <tr>\n",
       "      <th>169</th>\n",
       "      <td>170</td>\n",
       "      <td>Shen Wei Brand Tian Di Ying Xiong 2000mg Capsu...</td>\n",
       "      <td>Capsule</td>\n",
       "      <td>Pink</td>\n",
       "      <td>Oblong</td>\n",
       "      <td>No</td>\n",
       "      <td></td>\n",
       "      <td>Sildenafil</td>\n",
       "    </tr>\n",
       "    <tr>\n",
       "      <th>148</th>\n",
       "      <td>149</td>\n",
       "      <td>Migino Capsule (美人露)</td>\n",
       "      <td>Capsule</td>\n",
       "      <td>Transparent</td>\n",
       "      <td>Oblong</td>\n",
       "      <td>No</td>\n",
       "      <td></td>\n",
       "      <td>Lignocaine</td>\n",
       "    </tr>\n",
       "    <tr>\n",
       "      <th>25</th>\n",
       "      <td>26</td>\n",
       "      <td>Mei Guo Lan Jing Ling (美国蓝精灵) (Green)</td>\n",
       "      <td>Capsule</td>\n",
       "      <td>Green</td>\n",
       "      <td>Oblong</td>\n",
       "      <td>No</td>\n",
       "      <td></td>\n",
       "      <td>Sibutramine ;Sildenafil</td>\n",
       "    </tr>\n",
       "    <tr>\n",
       "      <th>54</th>\n",
       "      <td>55</td>\n",
       "      <td>MaxHerbal No. 1 Dietary Supplement for Men 500...</td>\n",
       "      <td>Capsule</td>\n",
       "      <td>White</td>\n",
       "      <td>Oblong</td>\n",
       "      <td>No</td>\n",
       "      <td></td>\n",
       "      <td>Sibutramine ;Sildenafil</td>\n",
       "    </tr>\n",
       "    <tr>\n",
       "      <th>64</th>\n",
       "      <td>65</td>\n",
       "      <td>BSH Body Slim Herbal</td>\n",
       "      <td>Capsule</td>\n",
       "      <td>Green</td>\n",
       "      <td>Oblong</td>\n",
       "      <td>No</td>\n",
       "      <td></td>\n",
       "      <td>Sibutramine</td>\n",
       "    </tr>\n",
       "    <tr>\n",
       "      <th>9</th>\n",
       "      <td>10</td>\n",
       "      <td>Li Jia Li (&amp;quot;F + F&amp;quot; Super Enforcement...</td>\n",
       "      <td>Capsule</td>\n",
       "      <td>Gold</td>\n",
       "      <td>Oblong</td>\n",
       "      <td>No</td>\n",
       "      <td></td>\n",
       "      <td>Sildenafil</td>\n",
       "    </tr>\n",
       "    <tr>\n",
       "      <th>106</th>\n",
       "      <td>107</td>\n",
       "      <td>Di Liu Dai Yi Pao Dao Tian Liang 2000mg Yan Sh...</td>\n",
       "      <td>Capsule</td>\n",
       "      <td>Black ;Red</td>\n",
       "      <td>Oblong</td>\n",
       "      <td>Yes</td>\n",
       "      <td>宏源制造</td>\n",
       "      <td>Sildenafil ;Tadalafil</td>\n",
       "    </tr>\n",
       "    <tr>\n",
       "      <th>163</th>\n",
       "      <td>164</td>\n",
       "      <td>18 Spring Gel (十八春催情缩阴精华素)</td>\n",
       "      <td>Gel</td>\n",
       "      <td>Transparent</td>\n",
       "      <td></td>\n",
       "      <td>No</td>\n",
       "      <td></td>\n",
       "      <td>Sildenafil</td>\n",
       "    </tr>\n",
       "    <tr>\n",
       "      <th>80</th>\n",
       "      <td>81</td>\n",
       "      <td>Obat Kuat &amp; Tahan Lama Khusus Pria Dewasa Maxi...</td>\n",
       "      <td>Capsule</td>\n",
       "      <td>Red</td>\n",
       "      <td>Oblong</td>\n",
       "      <td>Yes</td>\n",
       "      <td>Super (on both parts of the capsule)</td>\n",
       "      <td>Sildenafil</td>\n",
       "    </tr>\n",
       "    <tr>\n",
       "      <th>134</th>\n",
       "      <td>135</td>\n",
       "      <td>MM Malia Mellia XXS xtraxtrasmall</td>\n",
       "      <td>Capsule</td>\n",
       "      <td>Grey ;White</td>\n",
       "      <td>Oblong</td>\n",
       "      <td>No</td>\n",
       "      <td></td>\n",
       "      <td>Sibutramine</td>\n",
       "    </tr>\n",
       "  </tbody>\n",
       "</table>\n",
       "</div>"
      ],
      "text/plain": [
       "      SN                                Product Description Dosage Form  \\\n",
       "35    36               Bull's Genital male sexual stimulant     Capsule   \n",
       "208  209                JinMaoShiWang 1500mg Tablet (金毛狮王片)               \n",
       "65    66            SHEN QI DAN BAI NIAN CAO YAO '神奇丹 百年草药’     Capsule   \n",
       "58    59                 Surut Ayu Jamu Herbal Ramuan Alami     Capsule   \n",
       "101  102  Li Long Brand Xi Yu Shen Bao 2800mg Tablet (力龙...               \n",
       "128  129  expressherbals No.1 Mens Supplement Worldwide ...     Capsule   \n",
       "173  174  Li Zhi Yuan Brand Qiang Jing Wei Ge Wang Wu Bi...               \n",
       "45    46  Li Long Brand Ling Tou Lang 2800mg Capsule (力龙...     Capsule   \n",
       "66    67                                           Ricalinu     Capsule   \n",
       "169  170  Shen Wei Brand Tian Di Ying Xiong 2000mg Capsu...     Capsule   \n",
       "148  149                               Migino Capsule (美人露)     Capsule   \n",
       "25    26              Mei Guo Lan Jing Ling (美国蓝精灵) (Green)     Capsule   \n",
       "54    55  MaxHerbal No. 1 Dietary Supplement for Men 500...     Capsule   \n",
       "64    65                               BSH Body Slim Herbal     Capsule   \n",
       "9     10  Li Jia Li (&quot;F + F&quot; Super Enforcement...     Capsule   \n",
       "106  107  Di Liu Dai Yi Pao Dao Tian Liang 2000mg Yan Sh...     Capsule   \n",
       "163  164                         18 Spring Gel (十八春催情缩阴精华素)         Gel   \n",
       "80    81  Obat Kuat & Tahan Lama Khusus Pria Dewasa Maxi...     Capsule   \n",
       "134  135                  MM Malia Mellia XXS xtraxtrasmall     Capsule   \n",
       "\n",
       "    Dosage Form Color Dosage Form Shape Dosage Form Marking  \\\n",
       "35             Yellow              Oval                  No   \n",
       "208             Brown          Teardrop                 Yes   \n",
       "65              Brown            Oblong                  No   \n",
       "58         Red ;White            Oblong                  No   \n",
       "101             Brown          Teardrop                 Yes   \n",
       "128             White            Oblong                  No   \n",
       "173              Blue           Diamond                 Yes   \n",
       "45        Blue ;White            Oblong                 Yes   \n",
       "66      Black ;Yellow            Oblong                  No   \n",
       "169              Pink            Oblong                  No   \n",
       "148       Transparent            Oblong                  No   \n",
       "25              Green            Oblong                  No   \n",
       "54              White            Oblong                  No   \n",
       "64              Green            Oblong                  No   \n",
       "9                Gold            Oblong                  No   \n",
       "106        Black ;Red            Oblong                 Yes   \n",
       "163       Transparent                                    No   \n",
       "80                Red            Oblong                 Yes   \n",
       "134       Grey ;White            Oblong                  No   \n",
       "\n",
       "          Remarks for Dosage Form Marking  \\\n",
       "35                                          \n",
       "208                                    SV   \n",
       "65                                          \n",
       "58                                          \n",
       "101                                    力龙   \n",
       "128                                         \n",
       "173                                 800mg   \n",
       "45                                   力龙生物   \n",
       "66                                          \n",
       "169                                         \n",
       "148                                         \n",
       "25                                          \n",
       "54                                          \n",
       "64                                          \n",
       "9                                           \n",
       "106                                  宏源制造   \n",
       "163                                         \n",
       "80   Super (on both parts of the capsule)   \n",
       "134                                         \n",
       "\n",
       "                                           Adulterants  \n",
       "35                                          Sildenafil  \n",
       "208                                         Sildenafil  \n",
       "65                                                      \n",
       "58                                         Sibutramine  \n",
       "101                                         Sildenafil  \n",
       "128                                         Sildenafil  \n",
       "173  Lignocaine ;Sildenafil ;Tadalafil ;Theophyllin...  \n",
       "45                                          Sildenafil  \n",
       "66                                 Meloxicam ;Tramadol  \n",
       "169                                         Sildenafil  \n",
       "148                                         Lignocaine  \n",
       "25                             Sibutramine ;Sildenafil  \n",
       "54                             Sibutramine ;Sildenafil  \n",
       "64                                         Sibutramine  \n",
       "9                                           Sildenafil  \n",
       "106                              Sildenafil ;Tadalafil  \n",
       "163                                         Sildenafil  \n",
       "80                                          Sildenafil  \n",
       "134                                        Sibutramine  "
      ]
     },
     "execution_count": 5,
     "metadata": {},
     "output_type": "execute_result"
    }
   ],
   "source": [
    "df_all.sample(19)"
   ]
  },
  {
   "cell_type": "markdown",
   "metadata": {},
   "source": [
    "Drop SN number (since this number is not unique for the items in the HSA OSCAR system)"
   ]
  },
  {
   "cell_type": "code",
   "execution_count": 6,
   "metadata": {},
   "outputs": [],
   "source": [
    "df_all.drop(['SN'], axis=1, inplace = True)"
   ]
  },
  {
   "cell_type": "code",
   "execution_count": 7,
   "metadata": {},
   "outputs": [
    {
     "data": {
      "text/html": [
       "<div>\n",
       "<style scoped>\n",
       "    .dataframe tbody tr th:only-of-type {\n",
       "        vertical-align: middle;\n",
       "    }\n",
       "\n",
       "    .dataframe tbody tr th {\n",
       "        vertical-align: top;\n",
       "    }\n",
       "\n",
       "    .dataframe thead th {\n",
       "        text-align: right;\n",
       "    }\n",
       "</style>\n",
       "<table border=\"1\" class=\"dataframe\">\n",
       "  <thead>\n",
       "    <tr style=\"text-align: right;\">\n",
       "      <th></th>\n",
       "      <th>Product Description</th>\n",
       "      <th>Dosage Form</th>\n",
       "      <th>Dosage Form Color</th>\n",
       "      <th>Dosage Form Shape</th>\n",
       "      <th>Dosage Form Marking</th>\n",
       "      <th>Remarks for Dosage Form Marking</th>\n",
       "      <th>Adulterants</th>\n",
       "    </tr>\n",
       "  </thead>\n",
       "  <tbody>\n",
       "    <tr>\n",
       "      <th>0</th>\n",
       "      <td>Li Long Brand Jin Gang Shen Dan 2800mg Capsule...</td>\n",
       "      <td>Capsule</td>\n",
       "      <td>Green</td>\n",
       "      <td>Oblong</td>\n",
       "      <td>Yes</td>\n",
       "      <td>力龙生物</td>\n",
       "      <td>Sildenafil</td>\n",
       "    </tr>\n",
       "    <tr>\n",
       "      <th>1</th>\n",
       "      <td>Jiu Chong Tian Capsule (九重天)</td>\n",
       "      <td>Capsule</td>\n",
       "      <td>Beige ;Red</td>\n",
       "      <td>Oblong</td>\n",
       "      <td>No</td>\n",
       "      <td></td>\n",
       "      <td>Sildenafil</td>\n",
       "    </tr>\n",
       "    <tr>\n",
       "      <th>2</th>\n",
       "      <td>Buda Jin Qiang Bu Dao 800 mg Tablet (金枪不倒)</td>\n",
       "      <td></td>\n",
       "      <td>Brown</td>\n",
       "      <td>Irregular</td>\n",
       "      <td>No</td>\n",
       "      <td></td>\n",
       "      <td>Sildenafil</td>\n",
       "    </tr>\n",
       "    <tr>\n",
       "      <th>3</th>\n",
       "      <td>Kang Xi Da Di Long Yang Dan 1000mg Capsule (康熙...</td>\n",
       "      <td>Capsule</td>\n",
       "      <td>Green</td>\n",
       "      <td>Oblong</td>\n",
       "      <td>Yes</td>\n",
       "      <td>金聖力 and two creatures facing one another</td>\n",
       "      <td>Sildenafil</td>\n",
       "    </tr>\n",
       "    <tr>\n",
       "      <th>4</th>\n",
       "      <td>ZhengHao Brand King of Postponing Spray (延时王)</td>\n",
       "      <td>Spray</td>\n",
       "      <td></td>\n",
       "      <td></td>\n",
       "      <td>No</td>\n",
       "      <td></td>\n",
       "      <td>Lignocaine ;Sildenafil</td>\n",
       "    </tr>\n",
       "  </tbody>\n",
       "</table>\n",
       "</div>"
      ],
      "text/plain": [
       "                                 Product Description Dosage Form  \\\n",
       "0  Li Long Brand Jin Gang Shen Dan 2800mg Capsule...     Capsule   \n",
       "1                       Jiu Chong Tian Capsule (九重天)     Capsule   \n",
       "2         Buda Jin Qiang Bu Dao 800 mg Tablet (金枪不倒)               \n",
       "3  Kang Xi Da Di Long Yang Dan 1000mg Capsule (康熙...     Capsule   \n",
       "4      ZhengHao Brand King of Postponing Spray (延时王)       Spray   \n",
       "\n",
       "  Dosage Form Color Dosage Form Shape Dosage Form Marking  \\\n",
       "0             Green            Oblong                 Yes   \n",
       "1        Beige ;Red            Oblong                  No   \n",
       "2             Brown         Irregular                  No   \n",
       "3             Green            Oblong                 Yes   \n",
       "4                                                      No   \n",
       "\n",
       "            Remarks for Dosage Form Marking             Adulterants  \n",
       "0                                      力龙生物              Sildenafil  \n",
       "1                                                        Sildenafil  \n",
       "2                                                        Sildenafil  \n",
       "3  金聖力 and two creatures facing one another              Sildenafil  \n",
       "4                                            Lignocaine ;Sildenafil  "
      ]
     },
     "execution_count": 7,
     "metadata": {},
     "output_type": "execute_result"
    }
   ],
   "source": [
    "df_all.head()"
   ]
  },
  {
   "cell_type": "code",
   "execution_count": 8,
   "metadata": {},
   "outputs": [],
   "source": [
    "dosage_form_empty = df_all[df_all['Dosage Form'] == ' ']"
   ]
  },
  {
   "cell_type": "code",
   "execution_count": 9,
   "metadata": {
    "scrolled": true
   },
   "outputs": [
    {
     "data": {
      "text/plain": [
       "54"
      ]
     },
     "execution_count": 9,
     "metadata": {},
     "output_type": "execute_result"
    }
   ],
   "source": [
    "len(dosage_form_empty)"
   ]
  },
  {
   "cell_type": "code",
   "execution_count": 10,
   "metadata": {},
   "outputs": [],
   "source": [
    "df_filled_dosage_form = df_all[~(df_all['Dosage Form'] == ' ')]"
   ]
  },
  {
   "cell_type": "code",
   "execution_count": 11,
   "metadata": {},
   "outputs": [
    {
     "data": {
      "text/plain": [
       "191"
      ]
     },
     "execution_count": 11,
     "metadata": {},
     "output_type": "execute_result"
    }
   ],
   "source": [
    "len(df_filled_dosage_form)"
   ]
  },
  {
   "cell_type": "markdown",
   "metadata": {},
   "source": [
    "If drug name contains Tablet, then assign Dosage Form to be tablet"
   ]
  },
  {
   "cell_type": "code",
   "execution_count": 12,
   "metadata": {
    "scrolled": true
   },
   "outputs": [],
   "source": [
    "df_tabs = df_all[(df_all['Product Description'].str.contains('Tablet').any()) & (df_all['Dosage Form'] == ' ')]\n",
    "#df_non_tabs = pd.concat([df_all, df_tabs, df_tabs]).drop_duplicates(keep=False)"
   ]
  },
  {
   "cell_type": "code",
   "execution_count": 13,
   "metadata": {},
   "outputs": [
    {
     "data": {
      "text/plain": [
       "54"
      ]
     },
     "execution_count": 13,
     "metadata": {},
     "output_type": "execute_result"
    }
   ],
   "source": [
    "len(df_tabs)"
   ]
  },
  {
   "cell_type": "code",
   "execution_count": 14,
   "metadata": {
    "scrolled": false
   },
   "outputs": [
    {
     "data": {
      "text/html": [
       "<div>\n",
       "<style scoped>\n",
       "    .dataframe tbody tr th:only-of-type {\n",
       "        vertical-align: middle;\n",
       "    }\n",
       "\n",
       "    .dataframe tbody tr th {\n",
       "        vertical-align: top;\n",
       "    }\n",
       "\n",
       "    .dataframe thead th {\n",
       "        text-align: right;\n",
       "    }\n",
       "</style>\n",
       "<table border=\"1\" class=\"dataframe\">\n",
       "  <thead>\n",
       "    <tr style=\"text-align: right;\">\n",
       "      <th></th>\n",
       "      <th>Product Description</th>\n",
       "      <th>Dosage Form</th>\n",
       "      <th>Dosage Form Color</th>\n",
       "      <th>Dosage Form Shape</th>\n",
       "      <th>Dosage Form Marking</th>\n",
       "      <th>Remarks for Dosage Form Marking</th>\n",
       "      <th>Adulterants</th>\n",
       "    </tr>\n",
       "  </thead>\n",
       "  <tbody>\n",
       "    <tr>\n",
       "      <th>2</th>\n",
       "      <td>Buda Jin Qiang Bu Dao 800 mg Tablet (金枪不倒)</td>\n",
       "      <td></td>\n",
       "      <td>Brown</td>\n",
       "      <td>Irregular</td>\n",
       "      <td>No</td>\n",
       "      <td></td>\n",
       "      <td>Sildenafil</td>\n",
       "    </tr>\n",
       "    <tr>\n",
       "      <th>5</th>\n",
       "      <td>Lang Yi Hao 145mg Tablet (极品狼1号)</td>\n",
       "      <td></td>\n",
       "      <td>Blue</td>\n",
       "      <td>Diamond</td>\n",
       "      <td>Yes</td>\n",
       "      <td>DL</td>\n",
       "      <td>Metronidazole ;Sildenafil</td>\n",
       "    </tr>\n",
       "    <tr>\n",
       "      <th>8</th>\n",
       "      <td>Super Power Pills 1800 mg Tablet (力加力)</td>\n",
       "      <td></td>\n",
       "      <td>Red</td>\n",
       "      <td>Hexagon</td>\n",
       "      <td>Yes</td>\n",
       "      <td>SUPER</td>\n",
       "      <td>Sildenafil</td>\n",
       "    </tr>\n",
       "    <tr>\n",
       "      <th>12</th>\n",
       "      <td>Buda Jin Qiang Bu Dao 800 mg Tablet (金枪不倒)</td>\n",
       "      <td></td>\n",
       "      <td>Brown</td>\n",
       "      <td>Irregular</td>\n",
       "      <td>No</td>\n",
       "      <td></td>\n",
       "      <td>Sildenafil</td>\n",
       "    </tr>\n",
       "    <tr>\n",
       "      <th>15</th>\n",
       "      <td>Lang Yi Hao 145mg Tablet (极品狼1号)</td>\n",
       "      <td></td>\n",
       "      <td>Blue</td>\n",
       "      <td>Diamond</td>\n",
       "      <td>Yes</td>\n",
       "      <td>DL</td>\n",
       "      <td>Metronidazole ;Sildenafil</td>\n",
       "    </tr>\n",
       "  </tbody>\n",
       "</table>\n",
       "</div>"
      ],
      "text/plain": [
       "                           Product Description Dosage Form Dosage Form Color  \\\n",
       "2   Buda Jin Qiang Bu Dao 800 mg Tablet (金枪不倒)                         Brown   \n",
       "5             Lang Yi Hao 145mg Tablet (极品狼1号)                          Blue   \n",
       "8       Super Power Pills 1800 mg Tablet (力加力)                           Red   \n",
       "12  Buda Jin Qiang Bu Dao 800 mg Tablet (金枪不倒)                         Brown   \n",
       "15            Lang Yi Hao 145mg Tablet (极品狼1号)                          Blue   \n",
       "\n",
       "   Dosage Form Shape Dosage Form Marking Remarks for Dosage Form Marking  \\\n",
       "2          Irregular                  No                                   \n",
       "5            Diamond                 Yes                              DL   \n",
       "8            Hexagon                 Yes                           SUPER   \n",
       "12         Irregular                  No                                   \n",
       "15           Diamond                 Yes                              DL   \n",
       "\n",
       "                  Adulterants  \n",
       "2                  Sildenafil  \n",
       "5   Metronidazole ;Sildenafil  \n",
       "8                  Sildenafil  \n",
       "12                 Sildenafil  \n",
       "15  Metronidazole ;Sildenafil  "
      ]
     },
     "execution_count": 14,
     "metadata": {},
     "output_type": "execute_result"
    }
   ],
   "source": [
    "df_tabs.head()"
   ]
  },
  {
   "cell_type": "code",
   "execution_count": 15,
   "metadata": {
    "scrolled": true
   },
   "outputs": [],
   "source": [
    "df_tabs[['Dosage Form']] = 'Tablet'"
   ]
  },
  {
   "cell_type": "code",
   "execution_count": 16,
   "metadata": {
    "scrolled": true
   },
   "outputs": [
    {
     "data": {
      "text/html": [
       "<div>\n",
       "<style scoped>\n",
       "    .dataframe tbody tr th:only-of-type {\n",
       "        vertical-align: middle;\n",
       "    }\n",
       "\n",
       "    .dataframe tbody tr th {\n",
       "        vertical-align: top;\n",
       "    }\n",
       "\n",
       "    .dataframe thead th {\n",
       "        text-align: right;\n",
       "    }\n",
       "</style>\n",
       "<table border=\"1\" class=\"dataframe\">\n",
       "  <thead>\n",
       "    <tr style=\"text-align: right;\">\n",
       "      <th></th>\n",
       "      <th>Product Description</th>\n",
       "      <th>Dosage Form</th>\n",
       "      <th>Dosage Form Color</th>\n",
       "      <th>Dosage Form Shape</th>\n",
       "      <th>Dosage Form Marking</th>\n",
       "      <th>Remarks for Dosage Form Marking</th>\n",
       "      <th>Adulterants</th>\n",
       "    </tr>\n",
       "  </thead>\n",
       "  <tbody>\n",
       "    <tr>\n",
       "      <th>173</th>\n",
       "      <td>Li Zhi Yuan Brand Qiang Jing Wei Ge Wang Wu Bi...</td>\n",
       "      <td>Tablet</td>\n",
       "      <td>Blue</td>\n",
       "      <td>Diamond</td>\n",
       "      <td>Yes</td>\n",
       "      <td>800mg</td>\n",
       "      <td>Lignocaine ;Sildenafil ;Tadalafil ;Theophyllin...</td>\n",
       "    </tr>\n",
       "    <tr>\n",
       "      <th>92</th>\n",
       "      <td>Strong Boy</td>\n",
       "      <td>Tablet</td>\n",
       "      <td>Brown</td>\n",
       "      <td>Round</td>\n",
       "      <td>Yes</td>\n",
       "      <td>USA on one side / PA NT HE R on the other side</td>\n",
       "      <td>Sildenafil</td>\n",
       "    </tr>\n",
       "    <tr>\n",
       "      <th>244</th>\n",
       "      <td>Black Ant King (黑蚁王)</td>\n",
       "      <td>Tablet</td>\n",
       "      <td>Green</td>\n",
       "      <td>Oval</td>\n",
       "      <td>Yes</td>\n",
       "      <td>CPM</td>\n",
       "      <td>Sildenafil</td>\n",
       "    </tr>\n",
       "    <tr>\n",
       "      <th>24</th>\n",
       "      <td>Miraculous Evil Root 1200mg Tablet (神奇魔根)</td>\n",
       "      <td>Tablet</td>\n",
       "      <td>Yellow</td>\n",
       "      <td>Teardrop</td>\n",
       "      <td>Yes</td>\n",
       "      <td>C120</td>\n",
       "      <td>Sildenafil</td>\n",
       "    </tr>\n",
       "    <tr>\n",
       "      <th>5</th>\n",
       "      <td>Lang Yi Hao 145mg Tablet (极品狼1号)</td>\n",
       "      <td>Tablet</td>\n",
       "      <td>Blue</td>\n",
       "      <td>Diamond</td>\n",
       "      <td>Yes</td>\n",
       "      <td>DL</td>\n",
       "      <td>Metronidazole ;Sildenafil</td>\n",
       "    </tr>\n",
       "    <tr>\n",
       "      <th>61</th>\n",
       "      <td>Li Da Weight Loss Capsule</td>\n",
       "      <td>Tablet</td>\n",
       "      <td>Green</td>\n",
       "      <td>Oblong</td>\n",
       "      <td>No</td>\n",
       "      <td></td>\n",
       "      <td>Sibutramine</td>\n",
       "    </tr>\n",
       "    <tr>\n",
       "      <th>96</th>\n",
       "      <td>Jin Sheng Li Brand America Brother 1000mg Tabl...</td>\n",
       "      <td>Tablet</td>\n",
       "      <td>Blue</td>\n",
       "      <td>Diamond</td>\n",
       "      <td>Yes</td>\n",
       "      <td>VAG</td>\n",
       "      <td>Sildenafil</td>\n",
       "    </tr>\n",
       "    <tr>\n",
       "      <th>29</th>\n",
       "      <td>Ju He Tang Brand Mei Guo Zhan Shen 1000mg Tabl...</td>\n",
       "      <td>Tablet</td>\n",
       "      <td>Black</td>\n",
       "      <td>Oblong</td>\n",
       "      <td>Yes</td>\n",
       "      <td>Drawing of a dragon</td>\n",
       "      <td>Sildenafil ;Vardenafil</td>\n",
       "    </tr>\n",
       "  </tbody>\n",
       "</table>\n",
       "</div>"
      ],
      "text/plain": [
       "                                   Product Description Dosage Form  \\\n",
       "173  Li Zhi Yuan Brand Qiang Jing Wei Ge Wang Wu Bi...      Tablet   \n",
       "92                                          Strong Boy      Tablet   \n",
       "244                               Black Ant King (黑蚁王)      Tablet   \n",
       "24           Miraculous Evil Root 1200mg Tablet (神奇魔根)      Tablet   \n",
       "5                     Lang Yi Hao 145mg Tablet (极品狼1号)      Tablet   \n",
       "61                           Li Da Weight Loss Capsule      Tablet   \n",
       "96   Jin Sheng Li Brand America Brother 1000mg Tabl...      Tablet   \n",
       "29   Ju He Tang Brand Mei Guo Zhan Shen 1000mg Tabl...      Tablet   \n",
       "\n",
       "    Dosage Form Color Dosage Form Shape Dosage Form Marking  \\\n",
       "173              Blue           Diamond                 Yes   \n",
       "92              Brown             Round                 Yes   \n",
       "244             Green              Oval                 Yes   \n",
       "24             Yellow          Teardrop                 Yes   \n",
       "5                Blue           Diamond                 Yes   \n",
       "61              Green            Oblong                  No   \n",
       "96               Blue           Diamond                 Yes   \n",
       "29              Black            Oblong                 Yes   \n",
       "\n",
       "                    Remarks for Dosage Form Marking  \\\n",
       "173                                           800mg   \n",
       "92   USA on one side / PA NT HE R on the other side   \n",
       "244                                             CPM   \n",
       "24                                             C120   \n",
       "5                                                DL   \n",
       "61                                                    \n",
       "96                                              VAG   \n",
       "29                              Drawing of a dragon   \n",
       "\n",
       "                                           Adulterants  \n",
       "173  Lignocaine ;Sildenafil ;Tadalafil ;Theophyllin...  \n",
       "92                                          Sildenafil  \n",
       "244                                         Sildenafil  \n",
       "24                                          Sildenafil  \n",
       "5                            Metronidazole ;Sildenafil  \n",
       "61                                         Sibutramine  \n",
       "96                                          Sildenafil  \n",
       "29                              Sildenafil ;Vardenafil  "
      ]
     },
     "execution_count": 16,
     "metadata": {},
     "output_type": "execute_result"
    }
   ],
   "source": [
    "df_tabs.sample(8)"
   ]
  },
  {
   "cell_type": "code",
   "execution_count": 17,
   "metadata": {},
   "outputs": [],
   "source": [
    "# Recombine the split dataframes\n",
    "df_updated = pd.concat([df_tabs, df_filled_dosage_form], ignore_index = True)"
   ]
  },
  {
   "cell_type": "code",
   "execution_count": 18,
   "metadata": {},
   "outputs": [
    {
     "data": {
      "text/plain": [
       "245"
      ]
     },
     "execution_count": 18,
     "metadata": {},
     "output_type": "execute_result"
    }
   ],
   "source": [
    "len(df_updated)"
   ]
  },
  {
   "cell_type": "code",
   "execution_count": 19,
   "metadata": {},
   "outputs": [],
   "source": [
    "# Sort alphabetical order\n",
    "df_updated.sort_values(by=['Product Description'], inplace = True)"
   ]
  },
  {
   "cell_type": "code",
   "execution_count": 20,
   "metadata": {
    "scrolled": true
   },
   "outputs": [
    {
     "data": {
      "text/html": [
       "<div>\n",
       "<style scoped>\n",
       "    .dataframe tbody tr th:only-of-type {\n",
       "        vertical-align: middle;\n",
       "    }\n",
       "\n",
       "    .dataframe tbody tr th {\n",
       "        vertical-align: top;\n",
       "    }\n",
       "\n",
       "    .dataframe thead th {\n",
       "        text-align: right;\n",
       "    }\n",
       "</style>\n",
       "<table border=\"1\" class=\"dataframe\">\n",
       "  <thead>\n",
       "    <tr style=\"text-align: right;\">\n",
       "      <th></th>\n",
       "      <th>Product Description</th>\n",
       "      <th>Dosage Form</th>\n",
       "      <th>Dosage Form Color</th>\n",
       "      <th>Dosage Form Shape</th>\n",
       "      <th>Dosage Form Marking</th>\n",
       "      <th>Remarks for Dosage Form Marking</th>\n",
       "      <th>Adulterants</th>\n",
       "    </tr>\n",
       "  </thead>\n",
       "  <tbody>\n",
       "    <tr>\n",
       "      <th>179</th>\n",
       "      <td>18 Spring Gel (十八春催情缩阴精华素)</td>\n",
       "      <td>Gel</td>\n",
       "      <td>Transparent</td>\n",
       "      <td></td>\n",
       "      <td>No</td>\n",
       "      <td></td>\n",
       "      <td>Sildenafil</td>\n",
       "    </tr>\n",
       "    <tr>\n",
       "      <th>103</th>\n",
       "      <td>24Hrs Burn</td>\n",
       "      <td>Capsule</td>\n",
       "      <td>Brown</td>\n",
       "      <td>Oblong</td>\n",
       "      <td>No</td>\n",
       "      <td></td>\n",
       "      <td>Sibutramine</td>\n",
       "    </tr>\n",
       "    <tr>\n",
       "      <th>118</th>\n",
       "      <td>4X Lebih Dahsyat Obat Kuat &amp; Tahan Lama Urat M...</td>\n",
       "      <td>Capsule</td>\n",
       "      <td>Red</td>\n",
       "      <td>Oblong</td>\n",
       "      <td>Yes</td>\n",
       "      <td>URAT MADU</td>\n",
       "      <td>Sildenafil</td>\n",
       "    </tr>\n",
       "    <tr>\n",
       "      <th>84</th>\n",
       "      <td>AMACE For Him 300mg/capsule</td>\n",
       "      <td>Capsule</td>\n",
       "      <td>Blue ;White</td>\n",
       "      <td>Oblong</td>\n",
       "      <td>No</td>\n",
       "      <td></td>\n",
       "      <td>N-cyclopentyl Nortadalafil</td>\n",
       "    </tr>\n",
       "    <tr>\n",
       "      <th>188</th>\n",
       "      <td>Africa Black Ant 2500mg Capsule (非洲黑蚁王)</td>\n",
       "      <td>Capsule</td>\n",
       "      <td>White</td>\n",
       "      <td>Oblong</td>\n",
       "      <td>Yes</td>\n",
       "      <td>金聖力</td>\n",
       "      <td>Imidazosagatriazinone ;Sibutramine ;Sildenafil...</td>\n",
       "    </tr>\n",
       "    <tr>\n",
       "      <th>112</th>\n",
       "      <td>Aidi Brand Wodibo Capsule (艾迪牌五便宝胶囊)</td>\n",
       "      <td>Capsule</td>\n",
       "      <td>Blue</td>\n",
       "      <td>Oblong</td>\n",
       "      <td>No</td>\n",
       "      <td></td>\n",
       "      <td>Sildenafil ;Tadalafil</td>\n",
       "    </tr>\n",
       "    <tr>\n",
       "      <th>41</th>\n",
       "      <td>Ali Baba</td>\n",
       "      <td>Tablet</td>\n",
       "      <td>Brown</td>\n",
       "      <td></td>\n",
       "      <td>No</td>\n",
       "      <td></td>\n",
       "      <td>Lignocaine</td>\n",
       "    </tr>\n",
       "    <tr>\n",
       "      <th>155</th>\n",
       "      <td>Aliba (阿里巴巴男士性功能专用)</td>\n",
       "      <td>Capsule</td>\n",
       "      <td>Blue</td>\n",
       "      <td>Oblong</td>\n",
       "      <td>Yes</td>\n",
       "      <td>阿里巴巴</td>\n",
       "      <td>Sildenafil ;Tadalafil ;Vardenafil</td>\n",
       "    </tr>\n",
       "    <tr>\n",
       "      <th>149</th>\n",
       "      <td>Aloe Vera Waste Discharging &amp; Beauty 250mg Cap...</td>\n",
       "      <td>Capsule</td>\n",
       "      <td>Green</td>\n",
       "      <td>Oblong</td>\n",
       "      <td>No</td>\n",
       "      <td></td>\n",
       "      <td>Sibutramine</td>\n",
       "    </tr>\n",
       "    <tr>\n",
       "      <th>193</th>\n",
       "      <td>America Cowboy 500mg Capsule (美國牛仔胶囊)</td>\n",
       "      <td>Capsule</td>\n",
       "      <td>Green</td>\n",
       "      <td>Oblong</td>\n",
       "      <td>No</td>\n",
       "      <td></td>\n",
       "      <td>Sildenafil</td>\n",
       "    </tr>\n",
       "  </tbody>\n",
       "</table>\n",
       "</div>"
      ],
      "text/plain": [
       "                                   Product Description Dosage Form  \\\n",
       "179                         18 Spring Gel (十八春催情缩阴精华素)         Gel   \n",
       "103                                         24Hrs Burn     Capsule   \n",
       "118  4X Lebih Dahsyat Obat Kuat & Tahan Lama Urat M...     Capsule   \n",
       "84                         AMACE For Him 300mg/capsule     Capsule   \n",
       "188            Africa Black Ant 2500mg Capsule (非洲黑蚁王)     Capsule   \n",
       "112               Aidi Brand Wodibo Capsule (艾迪牌五便宝胶囊)     Capsule   \n",
       "41                                            Ali Baba      Tablet   \n",
       "155                                Aliba (阿里巴巴男士性功能专用)     Capsule   \n",
       "149  Aloe Vera Waste Discharging & Beauty 250mg Cap...     Capsule   \n",
       "193              America Cowboy 500mg Capsule (美國牛仔胶囊)     Capsule   \n",
       "\n",
       "    Dosage Form Color Dosage Form Shape Dosage Form Marking  \\\n",
       "179       Transparent                                    No   \n",
       "103             Brown            Oblong                  No   \n",
       "118               Red            Oblong                 Yes   \n",
       "84        Blue ;White            Oblong                  No   \n",
       "188             White            Oblong                 Yes   \n",
       "112              Blue            Oblong                  No   \n",
       "41              Brown                                    No   \n",
       "155              Blue            Oblong                 Yes   \n",
       "149             Green            Oblong                  No   \n",
       "193             Green            Oblong                  No   \n",
       "\n",
       "    Remarks for Dosage Form Marking  \\\n",
       "179                                   \n",
       "103                                   \n",
       "118                       URAT MADU   \n",
       "84                                    \n",
       "188                             金聖力   \n",
       "112                                   \n",
       "41                                    \n",
       "155                            阿里巴巴   \n",
       "149                                   \n",
       "193                                   \n",
       "\n",
       "                                           Adulterants  \n",
       "179                                         Sildenafil  \n",
       "103                                        Sibutramine  \n",
       "118                                         Sildenafil  \n",
       "84                          N-cyclopentyl Nortadalafil  \n",
       "188  Imidazosagatriazinone ;Sibutramine ;Sildenafil...  \n",
       "112                              Sildenafil ;Tadalafil  \n",
       "41                                          Lignocaine  \n",
       "155                  Sildenafil ;Tadalafil ;Vardenafil  \n",
       "149                                        Sibutramine  \n",
       "193                                         Sildenafil  "
      ]
     },
     "execution_count": 20,
     "metadata": {},
     "output_type": "execute_result"
    }
   ],
   "source": [
    "df_updated.head(10)"
   ]
  },
  {
   "cell_type": "code",
   "execution_count": 21,
   "metadata": {},
   "outputs": [],
   "source": [
    "# Replace all space values with NA value\n",
    "df_final = df_updated.replace(r'^\\s*$', np.nan, regex=True)"
   ]
  },
  {
   "cell_type": "code",
   "execution_count": 22,
   "metadata": {
    "scrolled": true
   },
   "outputs": [
    {
     "data": {
      "text/html": [
       "<div>\n",
       "<style scoped>\n",
       "    .dataframe tbody tr th:only-of-type {\n",
       "        vertical-align: middle;\n",
       "    }\n",
       "\n",
       "    .dataframe tbody tr th {\n",
       "        vertical-align: top;\n",
       "    }\n",
       "\n",
       "    .dataframe thead th {\n",
       "        text-align: right;\n",
       "    }\n",
       "</style>\n",
       "<table border=\"1\" class=\"dataframe\">\n",
       "  <thead>\n",
       "    <tr style=\"text-align: right;\">\n",
       "      <th></th>\n",
       "      <th>Product Description</th>\n",
       "      <th>Dosage Form</th>\n",
       "      <th>Dosage Form Color</th>\n",
       "      <th>Dosage Form Shape</th>\n",
       "      <th>Dosage Form Marking</th>\n",
       "      <th>Remarks for Dosage Form Marking</th>\n",
       "      <th>Adulterants</th>\n",
       "    </tr>\n",
       "  </thead>\n",
       "  <tbody>\n",
       "    <tr>\n",
       "      <th>179</th>\n",
       "      <td>18 Spring Gel (十八春催情缩阴精华素)</td>\n",
       "      <td>Gel</td>\n",
       "      <td>Transparent</td>\n",
       "      <td>NaN</td>\n",
       "      <td>No</td>\n",
       "      <td>NaN</td>\n",
       "      <td>Sildenafil</td>\n",
       "    </tr>\n",
       "    <tr>\n",
       "      <th>103</th>\n",
       "      <td>24Hrs Burn</td>\n",
       "      <td>Capsule</td>\n",
       "      <td>Brown</td>\n",
       "      <td>Oblong</td>\n",
       "      <td>No</td>\n",
       "      <td>NaN</td>\n",
       "      <td>Sibutramine</td>\n",
       "    </tr>\n",
       "    <tr>\n",
       "      <th>118</th>\n",
       "      <td>4X Lebih Dahsyat Obat Kuat &amp; Tahan Lama Urat M...</td>\n",
       "      <td>Capsule</td>\n",
       "      <td>Red</td>\n",
       "      <td>Oblong</td>\n",
       "      <td>Yes</td>\n",
       "      <td>URAT MADU</td>\n",
       "      <td>Sildenafil</td>\n",
       "    </tr>\n",
       "    <tr>\n",
       "      <th>84</th>\n",
       "      <td>AMACE For Him 300mg/capsule</td>\n",
       "      <td>Capsule</td>\n",
       "      <td>Blue ;White</td>\n",
       "      <td>Oblong</td>\n",
       "      <td>No</td>\n",
       "      <td>NaN</td>\n",
       "      <td>N-cyclopentyl Nortadalafil</td>\n",
       "    </tr>\n",
       "    <tr>\n",
       "      <th>188</th>\n",
       "      <td>Africa Black Ant 2500mg Capsule (非洲黑蚁王)</td>\n",
       "      <td>Capsule</td>\n",
       "      <td>White</td>\n",
       "      <td>Oblong</td>\n",
       "      <td>Yes</td>\n",
       "      <td>金聖力</td>\n",
       "      <td>Imidazosagatriazinone ;Sibutramine ;Sildenafil...</td>\n",
       "    </tr>\n",
       "    <tr>\n",
       "      <th>112</th>\n",
       "      <td>Aidi Brand Wodibo Capsule (艾迪牌五便宝胶囊)</td>\n",
       "      <td>Capsule</td>\n",
       "      <td>Blue</td>\n",
       "      <td>Oblong</td>\n",
       "      <td>No</td>\n",
       "      <td>NaN</td>\n",
       "      <td>Sildenafil ;Tadalafil</td>\n",
       "    </tr>\n",
       "    <tr>\n",
       "      <th>41</th>\n",
       "      <td>Ali Baba</td>\n",
       "      <td>Tablet</td>\n",
       "      <td>Brown</td>\n",
       "      <td>NaN</td>\n",
       "      <td>No</td>\n",
       "      <td>NaN</td>\n",
       "      <td>Lignocaine</td>\n",
       "    </tr>\n",
       "    <tr>\n",
       "      <th>155</th>\n",
       "      <td>Aliba (阿里巴巴男士性功能专用)</td>\n",
       "      <td>Capsule</td>\n",
       "      <td>Blue</td>\n",
       "      <td>Oblong</td>\n",
       "      <td>Yes</td>\n",
       "      <td>阿里巴巴</td>\n",
       "      <td>Sildenafil ;Tadalafil ;Vardenafil</td>\n",
       "    </tr>\n",
       "    <tr>\n",
       "      <th>149</th>\n",
       "      <td>Aloe Vera Waste Discharging &amp; Beauty 250mg Cap...</td>\n",
       "      <td>Capsule</td>\n",
       "      <td>Green</td>\n",
       "      <td>Oblong</td>\n",
       "      <td>No</td>\n",
       "      <td>NaN</td>\n",
       "      <td>Sibutramine</td>\n",
       "    </tr>\n",
       "    <tr>\n",
       "      <th>193</th>\n",
       "      <td>America Cowboy 500mg Capsule (美國牛仔胶囊)</td>\n",
       "      <td>Capsule</td>\n",
       "      <td>Green</td>\n",
       "      <td>Oblong</td>\n",
       "      <td>No</td>\n",
       "      <td>NaN</td>\n",
       "      <td>Sildenafil</td>\n",
       "    </tr>\n",
       "    <tr>\n",
       "      <th>189</th>\n",
       "      <td>American Moxman (美国魔根)</td>\n",
       "      <td>Capsule</td>\n",
       "      <td>Red ;White</td>\n",
       "      <td>Oblong</td>\n",
       "      <td>No</td>\n",
       "      <td>NaN</td>\n",
       "      <td>Sibutramine ;Sildenafil</td>\n",
       "    </tr>\n",
       "    <tr>\n",
       "      <th>191</th>\n",
       "      <td>Amrih Sehat Ramping Jelita Shio Lie Ta 500mg C...</td>\n",
       "      <td>Capsule</td>\n",
       "      <td>Orange</td>\n",
       "      <td>Oblong</td>\n",
       "      <td>No</td>\n",
       "      <td>NaN</td>\n",
       "      <td>Sibutramine</td>\n",
       "    </tr>\n",
       "    <tr>\n",
       "      <th>239</th>\n",
       "      <td>Aulura™ (奥露娜™ 减肥胶囊)</td>\n",
       "      <td>Capsule</td>\n",
       "      <td>Gold ;Green</td>\n",
       "      <td>Oblong</td>\n",
       "      <td>No</td>\n",
       "      <td>NaN</td>\n",
       "      <td>Phenolphthalein ;Sibutramine</td>\n",
       "    </tr>\n",
       "    <tr>\n",
       "      <th>104</th>\n",
       "      <td>BSH Body Slim Herbal</td>\n",
       "      <td>Capsule</td>\n",
       "      <td>Green</td>\n",
       "      <td>Oblong</td>\n",
       "      <td>No</td>\n",
       "      <td>NaN</td>\n",
       "      <td>Sibutramine</td>\n",
       "    </tr>\n",
       "    <tr>\n",
       "      <th>42</th>\n",
       "      <td>Bai Wei Tablet (百威)</td>\n",
       "      <td>Tablet</td>\n",
       "      <td>Black</td>\n",
       "      <td>Triangle</td>\n",
       "      <td>Yes</td>\n",
       "      <td>HF</td>\n",
       "      <td>Sildenafil</td>\n",
       "    </tr>\n",
       "  </tbody>\n",
       "</table>\n",
       "</div>"
      ],
      "text/plain": [
       "                                   Product Description Dosage Form  \\\n",
       "179                         18 Spring Gel (十八春催情缩阴精华素)         Gel   \n",
       "103                                         24Hrs Burn     Capsule   \n",
       "118  4X Lebih Dahsyat Obat Kuat & Tahan Lama Urat M...     Capsule   \n",
       "84                         AMACE For Him 300mg/capsule     Capsule   \n",
       "188            Africa Black Ant 2500mg Capsule (非洲黑蚁王)     Capsule   \n",
       "112               Aidi Brand Wodibo Capsule (艾迪牌五便宝胶囊)     Capsule   \n",
       "41                                            Ali Baba      Tablet   \n",
       "155                                Aliba (阿里巴巴男士性功能专用)     Capsule   \n",
       "149  Aloe Vera Waste Discharging & Beauty 250mg Cap...     Capsule   \n",
       "193              America Cowboy 500mg Capsule (美國牛仔胶囊)     Capsule   \n",
       "189                             American Moxman (美国魔根)     Capsule   \n",
       "191  Amrih Sehat Ramping Jelita Shio Lie Ta 500mg C...     Capsule   \n",
       "239                                Aulura™ (奥露娜™ 减肥胶囊)     Capsule   \n",
       "104                               BSH Body Slim Herbal     Capsule   \n",
       "42                                 Bai Wei Tablet (百威)      Tablet   \n",
       "\n",
       "    Dosage Form Color Dosage Form Shape Dosage Form Marking  \\\n",
       "179       Transparent               NaN                  No   \n",
       "103             Brown            Oblong                  No   \n",
       "118               Red            Oblong                 Yes   \n",
       "84        Blue ;White            Oblong                  No   \n",
       "188             White            Oblong                 Yes   \n",
       "112              Blue            Oblong                  No   \n",
       "41              Brown               NaN                  No   \n",
       "155              Blue            Oblong                 Yes   \n",
       "149             Green            Oblong                  No   \n",
       "193             Green            Oblong                  No   \n",
       "189        Red ;White            Oblong                  No   \n",
       "191            Orange            Oblong                  No   \n",
       "239       Gold ;Green            Oblong                  No   \n",
       "104             Green            Oblong                  No   \n",
       "42              Black          Triangle                 Yes   \n",
       "\n",
       "    Remarks for Dosage Form Marking  \\\n",
       "179                             NaN   \n",
       "103                             NaN   \n",
       "118                       URAT MADU   \n",
       "84                              NaN   \n",
       "188                             金聖力   \n",
       "112                             NaN   \n",
       "41                              NaN   \n",
       "155                            阿里巴巴   \n",
       "149                             NaN   \n",
       "193                             NaN   \n",
       "189                             NaN   \n",
       "191                             NaN   \n",
       "239                             NaN   \n",
       "104                             NaN   \n",
       "42                               HF   \n",
       "\n",
       "                                           Adulterants  \n",
       "179                                         Sildenafil  \n",
       "103                                        Sibutramine  \n",
       "118                                         Sildenafil  \n",
       "84                          N-cyclopentyl Nortadalafil  \n",
       "188  Imidazosagatriazinone ;Sibutramine ;Sildenafil...  \n",
       "112                              Sildenafil ;Tadalafil  \n",
       "41                                          Lignocaine  \n",
       "155                  Sildenafil ;Tadalafil ;Vardenafil  \n",
       "149                                        Sibutramine  \n",
       "193                                         Sildenafil  \n",
       "189                            Sibutramine ;Sildenafil  \n",
       "191                                        Sibutramine  \n",
       "239                       Phenolphthalein ;Sibutramine  \n",
       "104                                        Sibutramine  \n",
       "42                                          Sildenafil  "
      ]
     },
     "execution_count": 22,
     "metadata": {},
     "output_type": "execute_result"
    }
   ],
   "source": [
    "df_final.head(15)"
   ]
  },
  {
   "cell_type": "markdown",
   "metadata": {},
   "source": [
    "Reviewing missing data"
   ]
  },
  {
   "cell_type": "code",
   "execution_count": 23,
   "metadata": {},
   "outputs": [
    {
     "data": {
      "text/plain": [
       "Product Description                  0\n",
       "Dosage Form                          0\n",
       "Dosage Form Color                    9\n",
       "Dosage Form Shape                   20\n",
       "Dosage Form Marking                  0\n",
       "Remarks for Dosage Form Marking    150\n",
       "Adulterants                          1\n",
       "dtype: int64"
      ]
     },
     "execution_count": 23,
     "metadata": {},
     "output_type": "execute_result"
    }
   ],
   "source": [
    "df_final.isna().sum()"
   ]
  },
  {
   "cell_type": "markdown",
   "metadata": {},
   "source": [
    "___\n",
    "## Step 3 - Analysing Characteristics (Column-wise)"
   ]
  },
  {
   "cell_type": "markdown",
   "metadata": {},
   "source": [
    "Given that there are many Chinese characters in these counterfeit drugs, the analysis should include the Chinese characters. https://amueller.github.io/word_cloud/auto_examples/wordcloud_cn.html"
   ]
  },
  {
   "cell_type": "markdown",
   "metadata": {},
   "source": [
    "### 1) Product Description / Product Names"
   ]
  },
  {
   "cell_type": "code",
   "execution_count": 24,
   "metadata": {},
   "outputs": [],
   "source": [
    "product_names = df_final['Product Description'].values"
   ]
  },
  {
   "cell_type": "code",
   "execution_count": 45,
   "metadata": {},
   "outputs": [],
   "source": [
    "# Removing stopwords (Jiao nang means Capsule)\n",
    "product_stopwords = ['Tablet','Capsule','Capsules','Tablets','Brand',\"Capsule'\",'500mg','2000mg', 'Jiao', 'Nang']"
   ]
  },
  {
   "cell_type": "code",
   "execution_count": 51,
   "metadata": {
    "scrolled": true
   },
   "outputs": [
    {
     "data": {
      "image/png": "[encoded data removed]",
      "text/plain": [
       "<Figure size 792x792 with 1 Axes>"
      ]
     },
     "metadata": {},
     "output_type": "display_data"
    }
   ],
   "source": [
    "#wordcloud = WordCloud(font_path=font_path.generate(str(product_names)))\n",
    "wordcloud = WordCloud(stopwords = product_stopwords, font_path = font_path).generate(str(product_names))\n",
    "\n",
    "plt.figure(figsize=(11,11))\n",
    "\n",
    "# Display the generated image the matplotlib way:\n",
    "plt.imshow(wordcloud.recolor(random_state=1))\n",
    "plt.title('Product Description (All)')\n",
    "plt.axis(\"off\")\n",
    "plt.savefig('Images/Product Description - Full Wordcloud.png')\n",
    "plt.show()"
   ]
  },
  {
   "cell_type": "markdown",
   "metadata": {},
   "source": [
    "#### Assessing products containing Chinese characters"
   ]
  },
  {
   "cell_type": "code",
   "execution_count": 27,
   "metadata": {},
   "outputs": [],
   "source": [
    "df_has_chinese = df_final[df_final['Product Description'].str.contains(r'[\\u4e00-\\u9fff]+', regex = True)]"
   ]
  },
  {
   "cell_type": "code",
   "execution_count": 28,
   "metadata": {},
   "outputs": [
    {
     "data": {
      "text/plain": [
       "180"
      ]
     },
     "execution_count": 28,
     "metadata": {},
     "output_type": "execute_result"
    }
   ],
   "source": [
    "len(df_has_chinese)"
   ]
  },
  {
   "cell_type": "code",
   "execution_count": 32,
   "metadata": {},
   "outputs": [],
   "source": [
    "df_has_chinese['Has Chinese Char'] = 1"
   ]
  },
  {
   "cell_type": "markdown",
   "metadata": {},
   "source": [
    "Number of products without Chinese characters"
   ]
  },
  {
   "cell_type": "code",
   "execution_count": 29,
   "metadata": {},
   "outputs": [],
   "source": [
    "df_no_chinese = df_final[~df_final.index.isin(df_has_chinese.index)]"
   ]
  },
  {
   "cell_type": "code",
   "execution_count": 30,
   "metadata": {
    "scrolled": true
   },
   "outputs": [
    {
     "data": {
      "text/plain": [
       "65"
      ]
     },
     "execution_count": 30,
     "metadata": {},
     "output_type": "execute_result"
    }
   ],
   "source": [
    "len(df_no_chinese)"
   ]
  },
  {
   "cell_type": "code",
   "execution_count": 33,
   "metadata": {},
   "outputs": [],
   "source": [
    "df_no_chinese['Has Chinese Char'] = 0"
   ]
  },
  {
   "cell_type": "code",
   "execution_count": 34,
   "metadata": {},
   "outputs": [],
   "source": [
    "df_final = pd.concat([df_has_chinese, df_no_chinese], ignore_index = True)"
   ]
  },
  {
   "cell_type": "code",
   "execution_count": 35,
   "metadata": {},
   "outputs": [
    {
     "data": {
      "text/html": [
       "<div>\n",
       "<style scoped>\n",
       "    .dataframe tbody tr th:only-of-type {\n",
       "        vertical-align: middle;\n",
       "    }\n",
       "\n",
       "    .dataframe tbody tr th {\n",
       "        vertical-align: top;\n",
       "    }\n",
       "\n",
       "    .dataframe thead th {\n",
       "        text-align: right;\n",
       "    }\n",
       "</style>\n",
       "<table border=\"1\" class=\"dataframe\">\n",
       "  <thead>\n",
       "    <tr style=\"text-align: right;\">\n",
       "      <th></th>\n",
       "      <th>Product Description</th>\n",
       "      <th>Dosage Form</th>\n",
       "      <th>Dosage Form Color</th>\n",
       "      <th>Dosage Form Shape</th>\n",
       "      <th>Dosage Form Marking</th>\n",
       "      <th>Remarks for Dosage Form Marking</th>\n",
       "      <th>Adulterants</th>\n",
       "      <th>Has Chinese Char</th>\n",
       "    </tr>\n",
       "  </thead>\n",
       "  <tbody>\n",
       "    <tr>\n",
       "      <th>0</th>\n",
       "      <td>18 Spring Gel (十八春催情缩阴精华素)</td>\n",
       "      <td>Gel</td>\n",
       "      <td>Transparent</td>\n",
       "      <td>NaN</td>\n",
       "      <td>No</td>\n",
       "      <td>NaN</td>\n",
       "      <td>Sildenafil</td>\n",
       "      <td>1</td>\n",
       "    </tr>\n",
       "    <tr>\n",
       "      <th>1</th>\n",
       "      <td>Africa Black Ant 2500mg Capsule (非洲黑蚁王)</td>\n",
       "      <td>Capsule</td>\n",
       "      <td>White</td>\n",
       "      <td>Oblong</td>\n",
       "      <td>Yes</td>\n",
       "      <td>金聖力</td>\n",
       "      <td>Imidazosagatriazinone ;Sibutramine ;Sildenafil...</td>\n",
       "      <td>1</td>\n",
       "    </tr>\n",
       "    <tr>\n",
       "      <th>2</th>\n",
       "      <td>Aidi Brand Wodibo Capsule (艾迪牌五便宝胶囊)</td>\n",
       "      <td>Capsule</td>\n",
       "      <td>Blue</td>\n",
       "      <td>Oblong</td>\n",
       "      <td>No</td>\n",
       "      <td>NaN</td>\n",
       "      <td>Sildenafil ;Tadalafil</td>\n",
       "      <td>1</td>\n",
       "    </tr>\n",
       "    <tr>\n",
       "      <th>3</th>\n",
       "      <td>Aliba (阿里巴巴男士性功能专用)</td>\n",
       "      <td>Capsule</td>\n",
       "      <td>Blue</td>\n",
       "      <td>Oblong</td>\n",
       "      <td>Yes</td>\n",
       "      <td>阿里巴巴</td>\n",
       "      <td>Sildenafil ;Tadalafil ;Vardenafil</td>\n",
       "      <td>1</td>\n",
       "    </tr>\n",
       "    <tr>\n",
       "      <th>4</th>\n",
       "      <td>Aloe Vera Waste Discharging &amp; Beauty 250mg Cap...</td>\n",
       "      <td>Capsule</td>\n",
       "      <td>Green</td>\n",
       "      <td>Oblong</td>\n",
       "      <td>No</td>\n",
       "      <td>NaN</td>\n",
       "      <td>Sibutramine</td>\n",
       "      <td>1</td>\n",
       "    </tr>\n",
       "  </tbody>\n",
       "</table>\n",
       "</div>"
      ],
      "text/plain": [
       "                                 Product Description Dosage Form  \\\n",
       "0                         18 Spring Gel (十八春催情缩阴精华素)         Gel   \n",
       "1            Africa Black Ant 2500mg Capsule (非洲黑蚁王)     Capsule   \n",
       "2               Aidi Brand Wodibo Capsule (艾迪牌五便宝胶囊)     Capsule   \n",
       "3                                Aliba (阿里巴巴男士性功能专用)     Capsule   \n",
       "4  Aloe Vera Waste Discharging & Beauty 250mg Cap...     Capsule   \n",
       "\n",
       "  Dosage Form Color Dosage Form Shape Dosage Form Marking  \\\n",
       "0       Transparent               NaN                  No   \n",
       "1             White            Oblong                 Yes   \n",
       "2              Blue            Oblong                  No   \n",
       "3              Blue            Oblong                 Yes   \n",
       "4             Green            Oblong                  No   \n",
       "\n",
       "  Remarks for Dosage Form Marking  \\\n",
       "0                             NaN   \n",
       "1                             金聖力   \n",
       "2                             NaN   \n",
       "3                            阿里巴巴   \n",
       "4                             NaN   \n",
       "\n",
       "                                         Adulterants  Has Chinese Char  \n",
       "0                                         Sildenafil                 1  \n",
       "1  Imidazosagatriazinone ;Sibutramine ;Sildenafil...                 1  \n",
       "2                              Sildenafil ;Tadalafil                 1  \n",
       "3                  Sildenafil ;Tadalafil ;Vardenafil                 1  \n",
       "4                                        Sibutramine                 1  "
      ]
     },
     "execution_count": 35,
     "metadata": {},
     "output_type": "execute_result"
    }
   ],
   "source": [
    "df_final.head()"
   ]
  },
  {
   "cell_type": "code",
   "execution_count": 36,
   "metadata": {},
   "outputs": [
    {
     "data": {
      "text/plain": [
       "245"
      ]
     },
     "execution_count": 36,
     "metadata": {},
     "output_type": "execute_result"
    }
   ],
   "source": [
    "len(df_final)"
   ]
  },
  {
   "cell_type": "code",
   "execution_count": 105,
   "metadata": {},
   "outputs": [
    {
     "data": {
      "image/png": "[encoded data removed]",
      "text/plain": [
       "<Figure size 432x288 with 1 Axes>"
      ]
     },
     "metadata": {},
     "output_type": "display_data"
    }
   ],
   "source": [
    "# Data to plot\n",
    "labels = 'Has Chinese characters', 'No Chinese characters'\n",
    "\n",
    "has_chinese = len(df_final[df_final['Has Chinese Char'] == 1])\n",
    "no_chinese = len(df_final[df_final['Has Chinese Char'] == 0])\n",
    "\n",
    "sizes = [has_chinese, no_chinese]\n",
    "colors = ['navajowhite', 'paleturquoise']\n",
    "explode = (0.1, 0)  # explode 1st slice\n",
    "\n",
    "# Plot\n",
    "plt.pie(sizes, explode=explode, labels=labels, colors=colors,\n",
    "autopct='%1.1f%%', shadow=True, startangle=140)\n",
    "\n",
    "plt.axis('equal')\n",
    "plt.savefig('Images/Pie Chart - Chinese Characters')\n",
    "plt.show()"
   ]
  },
  {
   "cell_type": "markdown",
   "metadata": {},
   "source": [
    "#### Obtain all chinese characters for Chinese wordcloud\n",
    "Reference: https://stackoverflow.com/questions/2718196/find-all-chinese-text-in-a-string-using-python-and-regex"
   ]
  },
  {
   "cell_type": "code",
   "execution_count": null,
   "metadata": {},
   "outputs": [],
   "source": [
    "chinese_product_char_list = []\n",
    "\n",
    "for product in product_names:\n",
    "    for n in re.findall(r'[\\u4e00-\\u9fff]+', product):\n",
    "        chinese_product_char_list.append(n)"
   ]
  },
  {
   "cell_type": "code",
   "execution_count": null,
   "metadata": {},
   "outputs": [],
   "source": [
    "# Combine all the chinese characters into single string\n",
    "chinese_char = ''.join(map(str, chinese_product_char_list))"
   ]
  },
  {
   "cell_type": "code",
   "execution_count": null,
   "metadata": {},
   "outputs": [],
   "source": [
    "chinese_text = ' '.join(jieba.cut(chinese_char))\n",
    "chinese_text"
   ]
  },
  {
   "cell_type": "code",
   "execution_count": null,
   "metadata": {
    "scrolled": true
   },
   "outputs": [],
   "source": [
    "chinese_stopwords = ['胶囊'] # Remove Capsule chinese word from wordcloud\n",
    "\n",
    "wc_chinese = WordCloud(font_path=font_path, background_color=\"white\", max_words=100, max_font_size=100, \n",
    "                       random_state=42, width=1000, height=860, margin=2, stopwords = chinese_stopwords)\n",
    "\n",
    "wc_chinese.generate(chinese_text)\n",
    "\n",
    "plt.figure(figsize=(11,11))\n",
    "\n",
    "# Display the generated image the matplotlib way:\n",
    "plt.imshow(wc_chinese.recolor(random_state=42))\n",
    "plt.title('Product Description (Chinese)')\n",
    "plt.axis(\"off\")\n",
    "plt.savefig('Images/Product Description - Chi Wordcloud.png')\n",
    "plt.show()"
   ]
  },
  {
   "cell_type": "markdown",
   "metadata": {},
   "source": [
    "Reviewing non Chinese-character containing products"
   ]
  },
  {
   "cell_type": "code",
   "execution_count": 38,
   "metadata": {},
   "outputs": [],
   "source": [
    "non_chinese_product_names = df_no_chinese['Product Description'].values"
   ]
  },
  {
   "cell_type": "code",
   "execution_count": 52,
   "metadata": {},
   "outputs": [],
   "source": [
    "non_chinese_stopwords = ['Tablet','Capsule','Brand',\"Capsule'\",'500mg','2000mg', 'Jiao', 'Nang',\n",
    "                        \"Kapsul'\",\"Tablet'\",'Dan','for', 'Obat']"
   ]
  },
  {
   "cell_type": "code",
   "execution_count": 53,
   "metadata": {},
   "outputs": [
    {
     "data": {
      "image/png": "[encoded data removed]",
      "text/plain": [
       "<Figure size 792x792 with 1 Axes>"
      ]
     },
     "metadata": {},
     "output_type": "display_data"
    }
   ],
   "source": [
    "#wordcloud = WordCloud(font_path=font_path.generate(str(product_names)))\n",
    "wordcloud_non_chinese = WordCloud(stopwords = non_chinese_stopwords, font_path = font_path).generate(str(non_chinese_product_names))\n",
    "\n",
    "plt.figure(figsize=(11,11))\n",
    "\n",
    "# Display the generated image the matplotlib way:\n",
    "plt.imshow(wordcloud_non_chinese.recolor(random_state=1))\n",
    "plt.title('Product Description (Non-Chinese)')\n",
    "plt.axis(\"off\")\n",
    "plt.savefig('Images/Product Description - Non-Chinese Wordcloud.png')\n",
    "plt.show()"
   ]
  },
  {
   "cell_type": "markdown",
   "metadata": {},
   "source": [
    "### 2) Dosage Form"
   ]
  },
  {
   "cell_type": "code",
   "execution_count": 73,
   "metadata": {
    "scrolled": true
   },
   "outputs": [
    {
     "data": {
      "image/png": "[encoded data removed]",
      "text/plain": [
       "<Figure size 504x360 with 1 Axes>"
      ]
     },
     "metadata": {},
     "output_type": "display_data"
    }
   ],
   "source": [
    "plt.figure(figsize=(7,5))\n",
    "\n",
    "plot1 = sns.countplot(y='Dosage Form',data=df_final, color='steelblue', orient='h', order=df_final['Dosage Form'].value_counts().index)\n",
    "plt.title('Dosage Form Distribution', fontsize=15);\n",
    "plot1.tick_params(labelsize=15)\n",
    "plot1.set_xlabel(\"Number of Line Items\",fontsize=15)\n",
    "plot1.set_ylabel(\" \",fontsize=15)\n",
    "plt.savefig('Images/Dosage Form.png',bbox_inches='tight')\n",
    "plt.show()"
   ]
  },
  {
   "cell_type": "markdown",
   "metadata": {},
   "source": [
    "### 3) Dosage Form Colour"
   ]
  },
  {
   "cell_type": "code",
   "execution_count": 55,
   "metadata": {},
   "outputs": [
    {
     "data": {
      "image/png": "[encoded data removed]",
      "text/plain": [
       "<Figure size 576x432 with 1 Axes>"
      ]
     },
     "metadata": {},
     "output_type": "display_data"
    }
   ],
   "source": [
    "plt.figure(figsize=(8,6))\n",
    "\n",
    "plot1 = sns.countplot(y='Dosage Form Color',data=df_final, color='firebrick', orient='h', order=df_final['Dosage Form Color'].value_counts().index)\n",
    "plt.title('Dosage Form Color Distribution', fontsize=15);\n",
    "plot1.tick_params(labelsize=15)\n",
    "plot1.set_xlabel(\"Number of Line Items\",fontsize=15)\n",
    "plot1.set_ylabel(\"Dosage Form Color\",fontsize=15)\n",
    "plt.show()"
   ]
  },
  {
   "cell_type": "markdown",
   "metadata": {},
   "source": [
    "Need to split the colour strings to obtain the individual colors"
   ]
  },
  {
   "cell_type": "code",
   "execution_count": 56,
   "metadata": {},
   "outputs": [],
   "source": [
    "dosage_form_colors_list = df_final['Dosage Form Color'].values"
   ]
  },
  {
   "cell_type": "code",
   "execution_count": 57,
   "metadata": {
    "scrolled": true
   },
   "outputs": [
    {
     "data": {
      "text/plain": [
       "array(['Transparent', 'White', 'Blue', 'Blue', 'Green', 'Green',\n",
       "       'Red ;White', 'Orange', 'Gold ;Green', 'Black', 'Maroon', 'Red',\n",
       "       'Black ;Red', 'Maroon', 'Green', 'Yellow', 'Green', 'Pearl',\n",
       "       'Green', 'Red', 'Green', 'Brown', 'Brown', 'Brown', 'Green',\n",
       "       'Green', 'Blue ;White', 'Black', 'Black', 'Brown', 'Maroon',\n",
       "       'Black ;Red', 'Grey ;Orange', 'Brown', 'Blue ;Transparent',\n",
       "       'White', 'White', 'Green', 'Blue', nan, 'Yellow', 'Green', 'Green',\n",
       "       'Blue', 'Red', 'Red', nan, 'Red', 'Red', 'Red', 'Red ;White',\n",
       "       'Blue ;White', 'Blue', 'Green', 'Green', 'Green', 'Black', 'Blue',\n",
       "       'Red', 'Brown', 'Beige ;Red', 'Beige ;Red', 'Black', 'Green',\n",
       "       'Grey ;Orange', 'Green', 'Green', 'Black', 'Black ;Gold',\n",
       "       'Black ;Pearl', 'Black ;Pearl', 'Gold', 'Green', 'Blue', 'Blue',\n",
       "       'Green', 'Gold', 'Gold', 'Black', 'Beige', 'Green', 'Green',\n",
       "       'Blue ;White', 'Green', 'Beige ;Red', 'Blue ;White', 'Blue ;White',\n",
       "       'Brown', 'Red ;White', 'Blue', 'Pearl', 'Blue ;White',\n",
       "       'Blue ;White', 'Beige ;Red', 'Green', 'Red', 'Blue ;White',\n",
       "       'Brown', 'Red', 'Transparent', 'Yellow', 'Beige', 'Transparent',\n",
       "       'White', 'Blue', 'Red', 'Green', 'Transparent', 'Blue', 'Green',\n",
       "       'Blue', 'Pink', 'Blue ;White', 'Beige', 'Brown', 'Transparent',\n",
       "       'Green ;White', 'Pink', 'Brown', 'Transparent', 'Blue ;White',\n",
       "       'White', 'Gold', 'Pink', 'Orange', 'Black', 'Black', 'Black',\n",
       "       'Gold', 'Gold', 'Yellow', 'Yellow', 'Maroon', 'Blue', 'Blue',\n",
       "       'Green ;White', 'Maroon', 'Orange', 'Blue', 'Green', 'Red', 'Red',\n",
       "       'Green ;White', 'Brown', 'Orange ;White', 'Orange ;White', 'Brown',\n",
       "       'Red', 'Red', 'Yellow', 'Orange ;White', 'Blue', 'White', 'Brown',\n",
       "       'White', 'White', 'Brown', nan, 'Blue ;White', nan, 'Blue ;White',\n",
       "       'Blue', 'Blue ;Green ;White', 'Yellow', 'Blue ;White', 'Green',\n",
       "       'Green', 'Beige ;Red', 'Black ;Red', 'Blue ;White', 'Yellow',\n",
       "       'Red ;Yellow', 'Blue', 'Brown', 'Orange ;White', 'Black', 'Blue',\n",
       "       'Green', nan, nan, 'Brown', 'Red', 'Blue ;White', 'Brown', 'Green',\n",
       "       'Pink', 'White', 'Yellow', 'Pink', 'White', 'Blue',\n",
       "       'Red ;Light Pink', 'Beige', 'Maroon', 'Green ;Light green',\n",
       "       'Black ;Maroon', 'Yellow', 'Green', 'Orange ;Red', 'Orange ;Red',\n",
       "       'White', 'Transparent', 'Green', 'Grey ;White', 'Black ;White',\n",
       "       'Red', 'White', 'White', nan, 'Yellow', 'Brown', 'Red', 'Yellow',\n",
       "       'Pink', 'Maroon', 'Red', 'Red ;Yellow', 'Transparent',\n",
       "       'Green ;White', 'Brown', 'Transparent', 'Black ;Yellow',\n",
       "       'Blue ;White', 'Brown', 'Red', 'Black', 'Orange', 'Pink', nan,\n",
       "       'Black ;Yellow', 'Brown', 'Green', 'Red ;White', 'Grey', 'Maroon',\n",
       "       'Black ;Red', 'Yellow', 'Beige ;Red', nan, 'White', 'Brown',\n",
       "       'Beige', 'Pink', 'Green ;Orange', 'White'], dtype=object)"
      ]
     },
     "execution_count": 57,
     "metadata": {},
     "output_type": "execute_result"
    }
   ],
   "source": [
    "dosage_form_colors_list"
   ]
  },
  {
   "cell_type": "code",
   "execution_count": 58,
   "metadata": {},
   "outputs": [],
   "source": [
    "# Combine all the colors into single string\n",
    "dosage_form_colors = ','.join(map(str, dosage_form_colors_list))"
   ]
  },
  {
   "cell_type": "code",
   "execution_count": 59,
   "metadata": {},
   "outputs": [
    {
     "data": {
      "text/plain": [
       "'Transparent,White,Blue,Blue,Green,Green,Red ;White,Orange,Gold ;Green,Black,Maroon,Red,Black ;Red,Maroon,Green,Yellow,Green,Pearl,Green,Red,Green,Brown,Brown,Brown,Green,Green,Blue ;White,Black,Black,Brown,Maroon,Black ;Red,Grey ;Orange,Brown,Blue ;Transparent,White,White,Green,Blue,nan,Yellow,Green,Green,Blue,Red,Red,nan,Red,Red,Red,Red ;White,Blue ;White,Blue,Green,Green,Green,Black,Blue,Red,Brown,Beige ;Red,Beige ;Red,Black,Green,Grey ;Orange,Green,Green,Black,Black ;Gold,Black ;Pearl,Black ;Pearl,Gold,Green,Blue,Blue,Green,Gold,Gold,Black,Beige,Green,Green,Blue ;White,Green,Beige ;Red,Blue ;White,Blue ;White,Brown,Red ;White,Blue,Pearl,Blue ;White,Blue ;White,Beige ;Red,Green,Red,Blue ;White,Brown,Red,Transparent,Yellow,Beige,Transparent,White,Blue,Red,Green,Transparent,Blue,Green,Blue,Pink,Blue ;White,Beige,Brown,Transparent,Green ;White,Pink,Brown,Transparent,Blue ;White,White,Gold,Pink,Orange,Black,Black,Black,Gold,Gold,Yellow,Yellow,Maroon,Blue,Blue,Green ;White,Maroon,Orange,Blue,Green,Red,Red,Green ;White,Brown,Orange ;White,Orange ;White,Brown,Red,Red,Yellow,Orange ;White,Blue,White,Brown,White,White,Brown,nan,Blue ;White,nan,Blue ;White,Blue,Blue ;Green ;White,Yellow,Blue ;White,Green,Green,Beige ;Red,Black ;Red,Blue ;White,Yellow,Red ;Yellow,Blue,Brown,Orange ;White,Black,Blue,Green,nan,nan,Brown,Red,Blue ;White,Brown,Green,Pink,White,Yellow,Pink,White,Blue,Red ;Light Pink,Beige,Maroon,Green ;Light green,Black ;Maroon,Yellow,Green,Orange ;Red,Orange ;Red,White,Transparent,Green,Grey ;White,Black ;White,Red,White,White,nan,Yellow,Brown,Red,Yellow,Pink,Maroon,Red,Red ;Yellow,Transparent,Green ;White,Brown,Transparent,Black ;Yellow,Blue ;White,Brown,Red,Black,Orange,Pink,nan,Black ;Yellow,Brown,Green,Red ;White,Grey,Maroon,Black ;Red,Yellow,Beige ;Red,nan,White,Brown,Beige,Pink,Green ;Orange,White'"
      ]
     },
     "execution_count": 59,
     "metadata": {},
     "output_type": "execute_result"
    }
   ],
   "source": [
    "dosage_form_colors"
   ]
  },
  {
   "cell_type": "code",
   "execution_count": 60,
   "metadata": {},
   "outputs": [],
   "source": [
    "dosage_form_colors_updated = dosage_form_colors.replace(' ;', ',')"
   ]
  },
  {
   "cell_type": "code",
   "execution_count": 61,
   "metadata": {
    "scrolled": true
   },
   "outputs": [
    {
     "data": {
      "text/plain": [
       "'Transparent,White,Blue,Blue,Green,Green,Red,White,Orange,Gold,Green,Black,Maroon,Red,Black,Red,Maroon,Green,Yellow,Green,Pearl,Green,Red,Green,Brown,Brown,Brown,Green,Green,Blue,White,Black,Black,Brown,Maroon,Black,Red,Grey,Orange,Brown,Blue,Transparent,White,White,Green,Blue,nan,Yellow,Green,Green,Blue,Red,Red,nan,Red,Red,Red,Red,White,Blue,White,Blue,Green,Green,Green,Black,Blue,Red,Brown,Beige,Red,Beige,Red,Black,Green,Grey,Orange,Green,Green,Black,Black,Gold,Black,Pearl,Black,Pearl,Gold,Green,Blue,Blue,Green,Gold,Gold,Black,Beige,Green,Green,Blue,White,Green,Beige,Red,Blue,White,Blue,White,Brown,Red,White,Blue,Pearl,Blue,White,Blue,White,Beige,Red,Green,Red,Blue,White,Brown,Red,Transparent,Yellow,Beige,Transparent,White,Blue,Red,Green,Transparent,Blue,Green,Blue,Pink,Blue,White,Beige,Brown,Transparent,Green,White,Pink,Brown,Transparent,Blue,White,White,Gold,Pink,Orange,Black,Black,Black,Gold,Gold,Yellow,Yellow,Maroon,Blue,Blue,Green,White,Maroon,Orange,Blue,Green,Red,Red,Green,White,Brown,Orange,White,Orange,White,Brown,Red,Red,Yellow,Orange,White,Blue,White,Brown,White,White,Brown,nan,Blue,White,nan,Blue,White,Blue,Blue,Green,White,Yellow,Blue,White,Green,Green,Beige,Red,Black,Red,Blue,White,Yellow,Red,Yellow,Blue,Brown,Orange,White,Black,Blue,Green,nan,nan,Brown,Red,Blue,White,Brown,Green,Pink,White,Yellow,Pink,White,Blue,Red,Light Pink,Beige,Maroon,Green,Light green,Black,Maroon,Yellow,Green,Orange,Red,Orange,Red,White,Transparent,Green,Grey,White,Black,White,Red,White,White,nan,Yellow,Brown,Red,Yellow,Pink,Maroon,Red,Red,Yellow,Transparent,Green,White,Brown,Transparent,Black,Yellow,Blue,White,Brown,Red,Black,Orange,Pink,nan,Black,Yellow,Brown,Green,Red,White,Grey,Maroon,Black,Red,Yellow,Beige,Red,nan,White,Brown,Beige,Pink,Green,Orange,White'"
      ]
     },
     "execution_count": 61,
     "metadata": {},
     "output_type": "execute_result"
    }
   ],
   "source": [
    "dosage_form_colors_updated"
   ]
  },
  {
   "cell_type": "code",
   "execution_count": 62,
   "metadata": {},
   "outputs": [],
   "source": [
    "dosage_form_colors_final = dosage_form_colors_updated.split(\",\")"
   ]
  },
  {
   "cell_type": "code",
   "execution_count": 63,
   "metadata": {},
   "outputs": [],
   "source": [
    "# Sort the list\n",
    "dosage_form_colors_final = sorted(dosage_form_colors_final, key = dosage_form_colors_final.count, \n",
    "                                reverse = True) "
   ]
  },
  {
   "cell_type": "code",
   "execution_count": 64,
   "metadata": {},
   "outputs": [
    {
     "data": {
      "text/plain": [
       "['White',\n",
       " 'White',\n",
       " 'White',\n",
       " 'White',\n",
       " 'White',\n",
       " 'White',\n",
       " 'White',\n",
       " 'White',\n",
       " 'White',\n",
       " 'White',\n",
       " 'White',\n",
       " 'White',\n",
       " 'White',\n",
       " 'White',\n",
       " 'White',\n",
       " 'White',\n",
       " 'White',\n",
       " 'White',\n",
       " 'White',\n",
       " 'White',\n",
       " 'White',\n",
       " 'White',\n",
       " 'White',\n",
       " 'White',\n",
       " 'White',\n",
       " 'White',\n",
       " 'White',\n",
       " 'White',\n",
       " 'White',\n",
       " 'White',\n",
       " 'White',\n",
       " 'White',\n",
       " 'White',\n",
       " 'White',\n",
       " 'White',\n",
       " 'White',\n",
       " 'White',\n",
       " 'White',\n",
       " 'White',\n",
       " 'White',\n",
       " 'White',\n",
       " 'White',\n",
       " 'White',\n",
       " 'White',\n",
       " 'White',\n",
       " 'White',\n",
       " 'Green',\n",
       " 'Green',\n",
       " 'Green',\n",
       " 'Green',\n",
       " 'Green',\n",
       " 'Green',\n",
       " 'Green',\n",
       " 'Green',\n",
       " 'Green',\n",
       " 'Green',\n",
       " 'Green',\n",
       " 'Green',\n",
       " 'Green',\n",
       " 'Green',\n",
       " 'Green',\n",
       " 'Green',\n",
       " 'Green',\n",
       " 'Green',\n",
       " 'Green',\n",
       " 'Green',\n",
       " 'Green',\n",
       " 'Green',\n",
       " 'Green',\n",
       " 'Green',\n",
       " 'Green',\n",
       " 'Green',\n",
       " 'Green',\n",
       " 'Green',\n",
       " 'Green',\n",
       " 'Green',\n",
       " 'Green',\n",
       " 'Green',\n",
       " 'Green',\n",
       " 'Green',\n",
       " 'Green',\n",
       " 'Green',\n",
       " 'Green',\n",
       " 'Green',\n",
       " 'Green',\n",
       " 'Green',\n",
       " 'Green',\n",
       " 'Red',\n",
       " 'Red',\n",
       " 'Red',\n",
       " 'Red',\n",
       " 'Red',\n",
       " 'Red',\n",
       " 'Red',\n",
       " 'Red',\n",
       " 'Red',\n",
       " 'Red',\n",
       " 'Red',\n",
       " 'Red',\n",
       " 'Red',\n",
       " 'Red',\n",
       " 'Red',\n",
       " 'Red',\n",
       " 'Red',\n",
       " 'Red',\n",
       " 'Red',\n",
       " 'Red',\n",
       " 'Red',\n",
       " 'Red',\n",
       " 'Red',\n",
       " 'Red',\n",
       " 'Red',\n",
       " 'Red',\n",
       " 'Red',\n",
       " 'Red',\n",
       " 'Red',\n",
       " 'Red',\n",
       " 'Red',\n",
       " 'Red',\n",
       " 'Red',\n",
       " 'Red',\n",
       " 'Red',\n",
       " 'Red',\n",
       " 'Red',\n",
       " 'Red',\n",
       " 'Red',\n",
       " 'Blue',\n",
       " 'Blue',\n",
       " 'Blue',\n",
       " 'Blue',\n",
       " 'Blue',\n",
       " 'Blue',\n",
       " 'Blue',\n",
       " 'Blue',\n",
       " 'Blue',\n",
       " 'Blue',\n",
       " 'Blue',\n",
       " 'Blue',\n",
       " 'Blue',\n",
       " 'Blue',\n",
       " 'Blue',\n",
       " 'Blue',\n",
       " 'Blue',\n",
       " 'Blue',\n",
       " 'Blue',\n",
       " 'Blue',\n",
       " 'Blue',\n",
       " 'Blue',\n",
       " 'Blue',\n",
       " 'Blue',\n",
       " 'Blue',\n",
       " 'Blue',\n",
       " 'Blue',\n",
       " 'Blue',\n",
       " 'Blue',\n",
       " 'Blue',\n",
       " 'Blue',\n",
       " 'Blue',\n",
       " 'Blue',\n",
       " 'Blue',\n",
       " 'Blue',\n",
       " 'Blue',\n",
       " 'Blue',\n",
       " 'Blue',\n",
       " 'Black',\n",
       " 'Black',\n",
       " 'Black',\n",
       " 'Black',\n",
       " 'Black',\n",
       " 'Black',\n",
       " 'Black',\n",
       " 'Black',\n",
       " 'Black',\n",
       " 'Black',\n",
       " 'Black',\n",
       " 'Black',\n",
       " 'Black',\n",
       " 'Black',\n",
       " 'Black',\n",
       " 'Black',\n",
       " 'Black',\n",
       " 'Black',\n",
       " 'Black',\n",
       " 'Black',\n",
       " 'Black',\n",
       " 'Black',\n",
       " 'Black',\n",
       " 'Brown',\n",
       " 'Brown',\n",
       " 'Brown',\n",
       " 'Brown',\n",
       " 'Brown',\n",
       " 'Brown',\n",
       " 'Brown',\n",
       " 'Brown',\n",
       " 'Brown',\n",
       " 'Brown',\n",
       " 'Brown',\n",
       " 'Brown',\n",
       " 'Brown',\n",
       " 'Brown',\n",
       " 'Brown',\n",
       " 'Brown',\n",
       " 'Brown',\n",
       " 'Brown',\n",
       " 'Brown',\n",
       " 'Brown',\n",
       " 'Brown',\n",
       " 'Brown',\n",
       " 'Yellow',\n",
       " 'Yellow',\n",
       " 'Yellow',\n",
       " 'Yellow',\n",
       " 'Yellow',\n",
       " 'Yellow',\n",
       " 'Yellow',\n",
       " 'Yellow',\n",
       " 'Yellow',\n",
       " 'Yellow',\n",
       " 'Yellow',\n",
       " 'Yellow',\n",
       " 'Yellow',\n",
       " 'Yellow',\n",
       " 'Yellow',\n",
       " 'Yellow',\n",
       " 'Yellow',\n",
       " 'Orange',\n",
       " 'Orange',\n",
       " 'Orange',\n",
       " 'Orange',\n",
       " 'Orange',\n",
       " 'Orange',\n",
       " 'Orange',\n",
       " 'Orange',\n",
       " 'Orange',\n",
       " 'Orange',\n",
       " 'Orange',\n",
       " 'Orange',\n",
       " 'Orange',\n",
       " 'Beige',\n",
       " 'Beige',\n",
       " 'Beige',\n",
       " 'Beige',\n",
       " 'Beige',\n",
       " 'Beige',\n",
       " 'Beige',\n",
       " 'Beige',\n",
       " 'Beige',\n",
       " 'Beige',\n",
       " 'Beige',\n",
       " 'Transparent',\n",
       " 'Transparent',\n",
       " 'Transparent',\n",
       " 'Transparent',\n",
       " 'Transparent',\n",
       " 'Transparent',\n",
       " 'Transparent',\n",
       " 'Transparent',\n",
       " 'Transparent',\n",
       " 'Transparent',\n",
       " 'Maroon',\n",
       " 'Maroon',\n",
       " 'Maroon',\n",
       " 'nan',\n",
       " 'nan',\n",
       " 'Maroon',\n",
       " 'Maroon',\n",
       " 'nan',\n",
       " 'nan',\n",
       " 'nan',\n",
       " 'nan',\n",
       " 'Maroon',\n",
       " 'Maroon',\n",
       " 'nan',\n",
       " 'Maroon',\n",
       " 'nan',\n",
       " 'Maroon',\n",
       " 'nan',\n",
       " 'Gold',\n",
       " 'Gold',\n",
       " 'Gold',\n",
       " 'Gold',\n",
       " 'Gold',\n",
       " 'Pink',\n",
       " 'Pink',\n",
       " 'Gold',\n",
       " 'Pink',\n",
       " 'Gold',\n",
       " 'Gold',\n",
       " 'Pink',\n",
       " 'Pink',\n",
       " 'Pink',\n",
       " 'Pink',\n",
       " 'Pink',\n",
       " 'Pearl',\n",
       " 'Grey',\n",
       " 'Grey',\n",
       " 'Pearl',\n",
       " 'Pearl',\n",
       " 'Pearl',\n",
       " 'Grey',\n",
       " 'Grey',\n",
       " 'Light Pink',\n",
       " 'Light green']"
      ]
     },
     "execution_count": 64,
     "metadata": {},
     "output_type": "execute_result"
    }
   ],
   "source": [
    "dosage_form_colors_final"
   ]
  },
  {
   "cell_type": "code",
   "execution_count": 65,
   "metadata": {},
   "outputs": [
    {
     "data": {
      "text/plain": [
       "list"
      ]
     },
     "execution_count": 65,
     "metadata": {},
     "output_type": "execute_result"
    }
   ],
   "source": [
    "type(dosage_form_colors_final)"
   ]
  },
  {
   "cell_type": "code",
   "execution_count": 66,
   "metadata": {},
   "outputs": [],
   "source": [
    "dosage_form_colors_final_table = Counter(dosage_form_colors_final)"
   ]
  },
  {
   "cell_type": "code",
   "execution_count": 67,
   "metadata": {},
   "outputs": [],
   "source": [
    "dosage_form_colors_final_df = pd.DataFrame.from_dict(dosage_form_colors_final_table, orient='index').reset_index()\n",
    "dosage_form_colors_final_df.columns = ['Dosage Form Color', 'Frequency']"
   ]
  },
  {
   "cell_type": "code",
   "execution_count": 68,
   "metadata": {},
   "outputs": [
    {
     "data": {
      "text/html": [
       "<div>\n",
       "<style scoped>\n",
       "    .dataframe tbody tr th:only-of-type {\n",
       "        vertical-align: middle;\n",
       "    }\n",
       "\n",
       "    .dataframe tbody tr th {\n",
       "        vertical-align: top;\n",
       "    }\n",
       "\n",
       "    .dataframe thead th {\n",
       "        text-align: right;\n",
       "    }\n",
       "</style>\n",
       "<table border=\"1\" class=\"dataframe\">\n",
       "  <thead>\n",
       "    <tr style=\"text-align: right;\">\n",
       "      <th></th>\n",
       "      <th>Dosage Form Color</th>\n",
       "      <th>Frequency</th>\n",
       "    </tr>\n",
       "  </thead>\n",
       "  <tbody>\n",
       "    <tr>\n",
       "      <th>0</th>\n",
       "      <td>White</td>\n",
       "      <td>46</td>\n",
       "    </tr>\n",
       "    <tr>\n",
       "      <th>1</th>\n",
       "      <td>Green</td>\n",
       "      <td>41</td>\n",
       "    </tr>\n",
       "    <tr>\n",
       "      <th>2</th>\n",
       "      <td>Red</td>\n",
       "      <td>39</td>\n",
       "    </tr>\n",
       "    <tr>\n",
       "      <th>3</th>\n",
       "      <td>Blue</td>\n",
       "      <td>38</td>\n",
       "    </tr>\n",
       "    <tr>\n",
       "      <th>4</th>\n",
       "      <td>Black</td>\n",
       "      <td>23</td>\n",
       "    </tr>\n",
       "  </tbody>\n",
       "</table>\n",
       "</div>"
      ],
      "text/plain": [
       "  Dosage Form Color  Frequency\n",
       "0             White         46\n",
       "1             Green         41\n",
       "2               Red         39\n",
       "3              Blue         38\n",
       "4             Black         23"
      ]
     },
     "execution_count": 68,
     "metadata": {},
     "output_type": "execute_result"
    }
   ],
   "source": [
    "dosage_form_colors_final_df.head()"
   ]
  },
  {
   "cell_type": "code",
   "execution_count": 72,
   "metadata": {
    "scrolled": false
   },
   "outputs": [
    {
     "data": {
      "image/png": "[encoded data removed]",
      "text/plain": [
       "<Figure size 540x432 with 1 Axes>"
      ]
     },
     "metadata": {},
     "output_type": "display_data"
    }
   ],
   "source": [
    "plt.figure(figsize=(7.5,6))\n",
    "\n",
    "plot1 = sns.barplot(x=\"Frequency\", y=\"Dosage Form Color\", data=dosage_form_colors_final_df, \n",
    "                    orient = 'h', color = 'salmon')\n",
    "plt.title('Dosage Form Color Distribution', fontsize=15);\n",
    "plot1.tick_params(labelsize=15)\n",
    "plot1.set_xlabel(\"Number of Line Items\",fontsize=15)\n",
    "plot1.set_ylabel(\"Dosage Form Color\",fontsize=15)\n",
    "plt.savefig('Images/Dosage Form Color.png',bbox_inches='tight')\n",
    "plt.show()"
   ]
  },
  {
   "cell_type": "markdown",
   "metadata": {},
   "source": [
    "### 3) Dosage Form Shape"
   ]
  },
  {
   "cell_type": "code",
   "execution_count": 75,
   "metadata": {
    "scrolled": false
   },
   "outputs": [
    {
     "data": {
      "image/png": "[encoded data removed]",
      "text/plain": [
       "<Figure size 576x432 with 1 Axes>"
      ]
     },
     "metadata": {},
     "output_type": "display_data"
    }
   ],
   "source": [
    "plt.figure(figsize=(8,6))\n",
    "\n",
    "plot3 = sns.countplot(y='Dosage Form Shape',data=df_final, color='darkorange', orient='h', order=df_final['Dosage Form Shape'].value_counts().index)\n",
    "plt.title('Dosage Form Shape Distribution', fontsize=15);\n",
    "plot3.tick_params(labelsize=15)\n",
    "plot3.set_xlabel(\"Number of Line Items\",fontsize=15)\n",
    "#plot3.set_ylabel(\"Dosage Form Shape\",fontsize=15)\n",
    "plot3.set_ylabel(\" \",fontsize=15)\n",
    "plt.savefig('Images/Dosage Form Shape.png',bbox_inches='tight')\n",
    "plt.show()"
   ]
  },
  {
   "cell_type": "markdown",
   "metadata": {},
   "source": [
    "Most common form/colour/shape"
   ]
  },
  {
   "cell_type": "code",
   "execution_count": 76,
   "metadata": {},
   "outputs": [],
   "source": [
    "dosage_form_full = df_final[['Dosage Form', 'Dosage Form Color', 'Dosage Form Shape']]"
   ]
  },
  {
   "cell_type": "code",
   "execution_count": 77,
   "metadata": {},
   "outputs": [],
   "source": [
    "dosage_form_full = dosage_form_full.assign(full_form = dosage_form_full['Dosage Form'].astype(str) + ', ' + \\\n",
    "  dosage_form_full['Dosage Form Color'].astype(str) + ', ' + dosage_form_full['Dosage Form Shape'].astype(str))"
   ]
  },
  {
   "cell_type": "code",
   "execution_count": 78,
   "metadata": {},
   "outputs": [],
   "source": [
    "dosage_form_full_final = dosage_form_full['full_form']\n",
    "dosage_form_all = pd.DataFrame(dosage_form_full_final.value_counts())"
   ]
  },
  {
   "cell_type": "code",
   "execution_count": 79,
   "metadata": {},
   "outputs": [],
   "source": [
    "dosage_form_all.columns = ['Frequency']"
   ]
  },
  {
   "cell_type": "code",
   "execution_count": 80,
   "metadata": {},
   "outputs": [
    {
     "data": {
      "text/html": [
       "<div>\n",
       "<style scoped>\n",
       "    .dataframe tbody tr th:only-of-type {\n",
       "        vertical-align: middle;\n",
       "    }\n",
       "\n",
       "    .dataframe tbody tr th {\n",
       "        vertical-align: top;\n",
       "    }\n",
       "\n",
       "    .dataframe thead th {\n",
       "        text-align: right;\n",
       "    }\n",
       "</style>\n",
       "<table border=\"1\" class=\"dataframe\">\n",
       "  <thead>\n",
       "    <tr style=\"text-align: right;\">\n",
       "      <th></th>\n",
       "      <th>Frequency</th>\n",
       "    </tr>\n",
       "  </thead>\n",
       "  <tbody>\n",
       "    <tr>\n",
       "      <th>Capsule, Green, Oblong</th>\n",
       "      <td>29</td>\n",
       "    </tr>\n",
       "    <tr>\n",
       "      <th>Capsule, Red, Oblong</th>\n",
       "      <td>17</td>\n",
       "    </tr>\n",
       "    <tr>\n",
       "      <th>Capsule, Blue ;White, Oblong</th>\n",
       "      <td>16</td>\n",
       "    </tr>\n",
       "    <tr>\n",
       "      <th>Capsule, White, Oblong</th>\n",
       "      <td>12</td>\n",
       "    </tr>\n",
       "    <tr>\n",
       "      <th>Tablet, Blue, Diamond</th>\n",
       "      <td>8</td>\n",
       "    </tr>\n",
       "    <tr>\n",
       "      <th>Capsule, Pink, Oblong</th>\n",
       "      <td>7</td>\n",
       "    </tr>\n",
       "    <tr>\n",
       "      <th>Capsule, Maroon, Oblong</th>\n",
       "      <td>7</td>\n",
       "    </tr>\n",
       "    <tr>\n",
       "      <th>Capsule, Gold, Oblong</th>\n",
       "      <td>6</td>\n",
       "    </tr>\n",
       "    <tr>\n",
       "      <th>Capsule, Blue, Oblong</th>\n",
       "      <td>6</td>\n",
       "    </tr>\n",
       "    <tr>\n",
       "      <th>Tablet, Yellow, Teardrop</th>\n",
       "      <td>6</td>\n",
       "    </tr>\n",
       "  </tbody>\n",
       "</table>\n",
       "</div>"
      ],
      "text/plain": [
       "                              Frequency\n",
       "Capsule, Green, Oblong               29\n",
       "Capsule, Red, Oblong                 17\n",
       "Capsule, Blue ;White, Oblong         16\n",
       "Capsule, White, Oblong               12\n",
       "Tablet, Blue, Diamond                 8\n",
       "Capsule, Pink, Oblong                 7\n",
       "Capsule, Maroon, Oblong               7\n",
       "Capsule, Gold, Oblong                 6\n",
       "Capsule, Blue, Oblong                 6\n",
       "Tablet, Yellow, Teardrop              6"
      ]
     },
     "execution_count": 80,
     "metadata": {},
     "output_type": "execute_result"
    }
   ],
   "source": [
    "dosage_form_all.head(10)"
   ]
  },
  {
   "cell_type": "markdown",
   "metadata": {},
   "source": [
    "### 4) Dosage Form Marking"
   ]
  },
  {
   "cell_type": "code",
   "execution_count": 106,
   "metadata": {
    "scrolled": true
   },
   "outputs": [
    {
     "data": {
      "image/png": "[encoded data removed]",
      "text/plain": [
       "<Figure size 432x288 with 1 Axes>"
      ]
     },
     "metadata": {},
     "output_type": "display_data"
    }
   ],
   "source": [
    "# Data to plot\n",
    "labels = 'Has Marking', 'No Marking'\n",
    "\n",
    "has_marking = len(df_final[df_final['Dosage Form Marking'] == 'Yes'])\n",
    "no_marking = len(df_final[df_final['Dosage Form Marking'] == 'No'])\n",
    "\n",
    "sizes = [has_marking, no_marking]\n",
    "colors = ['gold', 'lightcoral']\n",
    "explode = (0.1, 0)  # explode 1st slice\n",
    "\n",
    "# Plot\n",
    "plt.pie(sizes, explode=explode, labels=labels, colors=colors,\n",
    "autopct='%1.1f%%', shadow=True, startangle=140)\n",
    "plt.axis('equal')\n",
    "plt.savefig('Images/Pie Chart - Dosage Form Marking.png')\n",
    "plt.show()"
   ]
  },
  {
   "cell_type": "markdown",
   "metadata": {},
   "source": [
    "### 5) Dosage Form Markings\n",
    "- Not analyzing due to plenty of missing data, but unlikely to get much interesting insights"
   ]
  },
  {
   "cell_type": "markdown",
   "metadata": {},
   "source": [
    "### 6) Adulterants"
   ]
  },
  {
   "cell_type": "code",
   "execution_count": 99,
   "metadata": {
    "scrolled": true
   },
   "outputs": [
    {
     "data": {
      "text/plain": [
       "array(['Sildenafil',\n",
       "       'Imidazosagatriazinone ;Sibutramine ;Sildenafil ;Tadalafil',\n",
       "       'Sildenafil ;Tadalafil', 'Sildenafil ;Tadalafil ;Vardenafil',\n",
       "       'Sibutramine', 'Sildenafil', 'Sibutramine ;Sildenafil',\n",
       "       'Sibutramine', 'Phenolphthalein ;Sibutramine', 'Sildenafil',\n",
       "       'Phenolphthalein ;Sibutramine',\n",
       "       'Chlorpheniramine ;Frusemide ;Piroxicam', 'Sildenafil',\n",
       "       'Sildenafil', 'Sildenafil', 'Sildenafil',\n",
       "       'Phenolphthalein ;Sibutramine', 'Sildenafil ;Tadalafil',\n",
       "       'Sildenafil', 'Sildenafil ;Tadalafil',\n",
       "       'Phenolphthalein ;Sibutramine', 'Sildenafil', 'Sildenafil',\n",
       "       'Sildenafil',\n",
       "       'Chlorpheniramine ;Frusemide ;Mephentermine ;Piroxicam',\n",
       "       'Sibutramine ;Sildenafil', 'Sildenafil', 'Sildenafil ;Tadalafil',\n",
       "       'Sildenafil', 'Lignocaine', 'Sildenafil', 'Sildenafil ;Tadalafil',\n",
       "       'Sildenafil', 'Sildenafil', 'Sildenafil', 'Lignocaine',\n",
       "       'Sildenafil', 'Phenolphthalein ;Sibutramine', 'Sildenafil',\n",
       "       'Lignocaine', 'Sildenafil', 'Sildenafil', 'Sildenafil',\n",
       "       'Sildenafil', 'Glibenclamide ;Sibutramine ;Sildenafil ;Tadalafil',\n",
       "       'Dexamethasone ;Indomethacin ;Prednisolone', 'Procaine',\n",
       "       'Diclofenac ;Sibutramine ;Sildenafil ;Tadalafil',\n",
       "       'Sildenafil ;Tadalafil', 'Sildenafil',\n",
       "       'Chlorpheniramine ;Dexamethasone ;Frusemide ;Pheniramine',\n",
       "       'Sildenafil', 'Sildenafil', 'Sildenafil',\n",
       "       'Sibutramine ;Sildenafil ;Tadalafil', 'Sildenafil',\n",
       "       'Sildenafil ;Tadalafil', 'Sildenafil', 'Sildenafil ;Tadalafil',\n",
       "       'Sildenafil', 'Sildenafil', 'Sildenafil', 'Sildenafil ;Vardenafil',\n",
       "       'Phenolphthalein ;Sibutramine',\n",
       "       'Glibenclamide ;Lignocaine ;Norethisterone ;Sibutramine ;Sildenafil ;Tadalafil',\n",
       "       'Sildenafil', 'Sildenafil', 'Sildenafil',\n",
       "       'Lignocaine ;Naproxen ;Sildenafil', 'Sibutramine ;Sildenafil',\n",
       "       'Diclofenac ;Phenolphthalein ;Sibutramine ;Sildenafil ;Strychnine',\n",
       "       'Sildenafil', 'Sibutramine', 'Metronidazole ;Sildenafil',\n",
       "       'Metronidazole ;Sildenafil',\n",
       "       'Phenolphthalein ;Sibutramine ;Sildenafil', 'Sildenafil',\n",
       "       'Sildenafil', 'Sildenafil', 'Sildenafil', 'Sildenafil',\n",
       "       'Sildenafil', 'Sildenafil', 'Sildenafil',\n",
       "       'Lignocaine ;Sildenafil ;Tadalafil', 'Sildenafil', 'Sildenafil',\n",
       "       'Sildenafil', 'Sildenafil',\n",
       "       'Lignocaine ;Sildenafil ;Tadalafil ;Theophylline ;Vardenafil',\n",
       "       'Phenolphthalein ;Sibutramine', 'Sibutramine ;Sildenafil',\n",
       "       'Sibutramine ;Sildenafil', 'Sildenafil', 'Sibutramine ;Sildenafil',\n",
       "       'Sibutramine ;Sildenafil', 'Metronidazole ;Sildenafil ;Tadalafil',\n",
       "       'Lignocaine ;Verapamil', 'Sildenafil', 'Lignocaine', 'Sildenafil',\n",
       "       'Sildenafil', 'Acetic Acid ;Acetildenafil ;Carbodenafil',\n",
       "       'Phenolphthalein ;Sibutramine', 'Phenolphthalein ;Sibutramine',\n",
       "       'Tadalafil', 'Ibuprofen ;Sildenafil', 'Lignocaine', 'Sildenafil',\n",
       "       'Sildenafil', 'Sildenafil', 'Glibenclamide ;Sildenafil',\n",
       "       'Chloropretadalafil ;Tadalafil', 'Phenolphthalein ;Sibutramine',\n",
       "       'Hydroxythiohomosildenafil', 'Sildenafil ;Vardenafil',\n",
       "       'Caffeine ;Phenolphthalein ;Sibutramine', 'Sibutramine', nan,\n",
       "       'Metformin ;Sibutramine', 'Glibenclamide ;Sibutramine ;Sildenafil',\n",
       "       'Lignocaine', 'Sildenafil', 'Sildenafil', 'Sildenafil',\n",
       "       'Sildenafil', 'Sildenafil', 'Sildenafil', 'Sildenafil',\n",
       "       'Sildenafil', 'Lignocaine ;Sildenafil', 'Sildenafil',\n",
       "       'Phenolphthalein ;Sibutramine ;Sildenafil',\n",
       "       'Sibutramine ;Sildenafil', 'Sibutramine ;Sildenafil',\n",
       "       'Phenolphthalein ;Sibutramine', 'Sibutramine', 'Sildenafil',\n",
       "       'Sildenafil ;Tadalafil',\n",
       "       'Diclofenac ;Ibuprofen ;Piroxicam ;Sildenafil', 'Sildenafil',\n",
       "       'Sildenafil', 'Phenolphthalein ;Sibutramine', 'Sildenafil',\n",
       "       'Sibutramine', 'Sildenafil', 'Sildenafil', 'Sildenafil ;Tadalafil',\n",
       "       'Sibutramine ;Sildenafil ;Tadalafil', 'Sildenafil', 'Sildenafil',\n",
       "       'Sildenafil ;Tadalafil', 'Sibutramine ;Sildenafil', 'Sildenafil',\n",
       "       'Sildenafil', 'Sildenafil ;Tadalafil',\n",
       "       'Piperiacetildenafil ;Sildenafil ;Vardenafil', 'Sibutramine',\n",
       "       'Sildenafil', 'Lignocaine', 'Sildenafil', 'Sildenafil',\n",
       "       'Phenolphthalein ;Sibutramine', 'Sildenafil ;Tadalafil',\n",
       "       'Sildenafil', 'Sildenafil', 'Sildenafil', 'Sildenafil',\n",
       "       'Sildenafil', 'Sildenafil', 'Sildenafil', 'Sildenafil',\n",
       "       'Sildenafil', 'Caffeine ;Phenolphthalein ;Sibutramine',\n",
       "       'Sibutramine', 'Sildenafil', 'Sildenafil',\n",
       "       'Phenolphthalein ;Sibutramine', 'Lignocaine ;Sildenafil',\n",
       "       'Lignocaine ;Sildenafil', 'Sibutramine', 'Sildenafil',\n",
       "       'N-cyclopentyl Nortadalafil', 'Lignocaine', 'Sibutramine',\n",
       "       'Sibutramine', 'Tadalafil', 'Sildenafil', 'Sildenafil',\n",
       "       'Lignocaine', 'Sibutramine', 'Sibutramine',\n",
       "       'Phenolphthalein ;Sibutramine',\n",
       "       'Chloramphenicol ;Imidazosagatriazinone ;Sildenafil',\n",
       "       'Phenolphthalein ;Sibutramine', 'Sibutramine ;Spironolactone',\n",
       "       'Sildenafil', 'Aminotadalafil', 'Sibutramine', 'Sibutramine',\n",
       "       'Sildenafil', 'Acetic Acid ;Acetildenafil', 'Sibutramine',\n",
       "       'Sibutramine', 'Phenolphthalein ;Sibutramine ;Sildenafil',\n",
       "       'Dimethylsildenafil ;Thiodimethylsildenafil', 'Sildenafil',\n",
       "       'Sibutramine ;Sildenafil',\n",
       "       'Methoxsalen ;Sildenafil ;Thiosildenafil',\n",
       "       'Sibutramine ;Sildenafil', 'Lignocaine', 'Paracetamol ;Piroxicam',\n",
       "       'Propoxyphenyl Aildenafil ;Propoxyphenyl Thioaildenafil ;Propoxyphenyl Thiohydroxyhomosildenafil ;Propoxyphenyl hydroxyhomosildenafil',\n",
       "       'Sibutramine', 'Dexamethasone ;Diclofenac', 'Sildenafil',\n",
       "       'Dexamethasone ;Paracetamol ;Phenylbutazone', 'Sildenafil',\n",
       "       'Sibutramine', 'Sibutramine',\n",
       "       'N-cyclopentyl Nortadalafil ;Tadalafil', 'Meloxicam ;Tramadol',\n",
       "       'Sildenafil', 'Lignocaine', 'Sildenafil',\n",
       "       'Dexamethasone ;Indomethacin ;Piroxicam',\n",
       "       'Fenfluramine ;Sibutramine', 'Fluoxetine ;Phenolphthalein',\n",
       "       'Tadalafil', 'Sildenafil', 'Sildenafil', 'Paracetamol ;Sildenafil',\n",
       "       'Sibutramine', 'Chlorpheniramine ;Diclofenac ;Piroxicam',\n",
       "       'Sildenafil', 'Cyproheptadine ;Dexamethasone', 'Lignocaine',\n",
       "       'Dexamethasone ;Diclofenac ;Paracetamol', 'Sibutramine',\n",
       "       'Sibutramine ;Sildenafil ;Tadalafil', 'Lignocaine', 'Tadalafil',\n",
       "       'Diphenhydramine ;Frusemide', 'Sibutramine', 'Sildenafil'],\n",
       "      dtype=object)"
      ]
     },
     "execution_count": 99,
     "metadata": {},
     "output_type": "execute_result"
    }
   ],
   "source": [
    "adulterants_list = df_final['Adulterants'].values\n",
    "adulterants_list"
   ]
  },
  {
   "cell_type": "code",
   "execution_count": 86,
   "metadata": {},
   "outputs": [],
   "source": [
    "# Combine all adulterants into single string\n",
    "adulterants = ','.join(map(str, adulterants_list))"
   ]
  },
  {
   "cell_type": "code",
   "execution_count": 87,
   "metadata": {},
   "outputs": [],
   "source": [
    "adulterants_updated = adulterants.replace(' ;', ',')"
   ]
  },
  {
   "cell_type": "code",
   "execution_count": 88,
   "metadata": {},
   "outputs": [],
   "source": [
    "# Sort the list\n",
    "adulterants_final = adulterants_updated.split(\",\")\n",
    "adulterants_final = sorted(adulterants_final, key = adulterants_final.count, \n",
    "                                reverse = True) "
   ]
  },
  {
   "cell_type": "code",
   "execution_count": 89,
   "metadata": {},
   "outputs": [],
   "source": [
    "adulterants_table = Counter(adulterants_final)"
   ]
  },
  {
   "cell_type": "code",
   "execution_count": 90,
   "metadata": {
    "scrolled": true
   },
   "outputs": [
    {
     "data": {
      "text/plain": [
       "Counter({'Sildenafil': 158,\n",
       "         'Sibutramine': 68,\n",
       "         'Tadalafil': 30,\n",
       "         'Phenolphthalein': 23,\n",
       "         'Lignocaine': 21,\n",
       "         'Dexamethasone': 7,\n",
       "         'Piroxicam': 6,\n",
       "         'Diclofenac': 6,\n",
       "         'Vardenafil': 5,\n",
       "         'Chlorpheniramine': 4,\n",
       "         'Frusemide': 4,\n",
       "         'Glibenclamide': 4,\n",
       "         'Paracetamol': 4,\n",
       "         'Metronidazole': 3,\n",
       "         'Imidazosagatriazinone': 2,\n",
       "         'Indomethacin': 2,\n",
       "         'Acetic Acid': 2,\n",
       "         'Acetildenafil': 2,\n",
       "         'Ibuprofen': 2,\n",
       "         'Caffeine': 2,\n",
       "         'N-cyclopentyl Nortadalafil': 2,\n",
       "         'Mephentermine': 1,\n",
       "         'Prednisolone': 1,\n",
       "         'Procaine': 1,\n",
       "         'Pheniramine': 1,\n",
       "         'Norethisterone': 1,\n",
       "         'Naproxen': 1,\n",
       "         'Strychnine': 1,\n",
       "         'Theophylline': 1,\n",
       "         'Verapamil': 1,\n",
       "         'Carbodenafil': 1,\n",
       "         'Chloropretadalafil': 1,\n",
       "         'Hydroxythiohomosildenafil': 1,\n",
       "         'nan': 1,\n",
       "         'Metformin': 1,\n",
       "         'Piperiacetildenafil': 1,\n",
       "         'Chloramphenicol': 1,\n",
       "         'Spironolactone': 1,\n",
       "         'Aminotadalafil': 1,\n",
       "         'Dimethylsildenafil': 1,\n",
       "         'Thiodimethylsildenafil': 1,\n",
       "         'Methoxsalen': 1,\n",
       "         'Thiosildenafil': 1,\n",
       "         'Propoxyphenyl Aildenafil': 1,\n",
       "         'Propoxyphenyl Thioaildenafil': 1,\n",
       "         'Propoxyphenyl Thiohydroxyhomosildenafil': 1,\n",
       "         'Propoxyphenyl hydroxyhomosildenafil': 1,\n",
       "         'Phenylbutazone': 1,\n",
       "         'Meloxicam': 1,\n",
       "         'Tramadol': 1,\n",
       "         'Fenfluramine': 1,\n",
       "         'Fluoxetine': 1,\n",
       "         'Cyproheptadine': 1,\n",
       "         'Diphenhydramine': 1})"
      ]
     },
     "execution_count": 90,
     "metadata": {},
     "output_type": "execute_result"
    }
   ],
   "source": [
    "adulterants_table"
   ]
  },
  {
   "cell_type": "code",
   "execution_count": 91,
   "metadata": {},
   "outputs": [],
   "source": [
    "adulterants_df = pd.DataFrame.from_dict(adulterants_table, orient='index').reset_index()"
   ]
  },
  {
   "cell_type": "code",
   "execution_count": 92,
   "metadata": {},
   "outputs": [],
   "source": [
    "adulterants_df.columns = ['Adulterant', 'Frequency']"
   ]
  },
  {
   "cell_type": "code",
   "execution_count": 93,
   "metadata": {},
   "outputs": [],
   "source": [
    "# Drop rows which are NA\n",
    "adulterants_df = adulterants_df.drop(adulterants_df[adulterants_df['Adulterant'] == 'nan'].index)"
   ]
  },
  {
   "cell_type": "code",
   "execution_count": 94,
   "metadata": {},
   "outputs": [
    {
     "data": {
      "text/html": [
       "<div>\n",
       "<style scoped>\n",
       "    .dataframe tbody tr th:only-of-type {\n",
       "        vertical-align: middle;\n",
       "    }\n",
       "\n",
       "    .dataframe tbody tr th {\n",
       "        vertical-align: top;\n",
       "    }\n",
       "\n",
       "    .dataframe thead th {\n",
       "        text-align: right;\n",
       "    }\n",
       "</style>\n",
       "<table border=\"1\" class=\"dataframe\">\n",
       "  <thead>\n",
       "    <tr style=\"text-align: right;\">\n",
       "      <th></th>\n",
       "      <th>Adulterant</th>\n",
       "      <th>Frequency</th>\n",
       "    </tr>\n",
       "  </thead>\n",
       "  <tbody>\n",
       "    <tr>\n",
       "      <th>0</th>\n",
       "      <td>Sildenafil</td>\n",
       "      <td>158</td>\n",
       "    </tr>\n",
       "    <tr>\n",
       "      <th>1</th>\n",
       "      <td>Sibutramine</td>\n",
       "      <td>68</td>\n",
       "    </tr>\n",
       "    <tr>\n",
       "      <th>2</th>\n",
       "      <td>Tadalafil</td>\n",
       "      <td>30</td>\n",
       "    </tr>\n",
       "    <tr>\n",
       "      <th>3</th>\n",
       "      <td>Phenolphthalein</td>\n",
       "      <td>23</td>\n",
       "    </tr>\n",
       "    <tr>\n",
       "      <th>4</th>\n",
       "      <td>Lignocaine</td>\n",
       "      <td>21</td>\n",
       "    </tr>\n",
       "    <tr>\n",
       "      <th>5</th>\n",
       "      <td>Dexamethasone</td>\n",
       "      <td>7</td>\n",
       "    </tr>\n",
       "    <tr>\n",
       "      <th>6</th>\n",
       "      <td>Piroxicam</td>\n",
       "      <td>6</td>\n",
       "    </tr>\n",
       "    <tr>\n",
       "      <th>7</th>\n",
       "      <td>Diclofenac</td>\n",
       "      <td>6</td>\n",
       "    </tr>\n",
       "    <tr>\n",
       "      <th>8</th>\n",
       "      <td>Vardenafil</td>\n",
       "      <td>5</td>\n",
       "    </tr>\n",
       "    <tr>\n",
       "      <th>9</th>\n",
       "      <td>Chlorpheniramine</td>\n",
       "      <td>4</td>\n",
       "    </tr>\n",
       "  </tbody>\n",
       "</table>\n",
       "</div>"
      ],
      "text/plain": [
       "         Adulterant  Frequency\n",
       "0        Sildenafil        158\n",
       "1       Sibutramine         68\n",
       "2         Tadalafil         30\n",
       "3   Phenolphthalein         23\n",
       "4        Lignocaine         21\n",
       "5     Dexamethasone          7\n",
       "6         Piroxicam          6\n",
       "7        Diclofenac          6\n",
       "8        Vardenafil          5\n",
       "9  Chlorpheniramine          4"
      ]
     },
     "execution_count": 94,
     "metadata": {},
     "output_type": "execute_result"
    }
   ],
   "source": [
    "adulterants_df.head(10)"
   ]
  },
  {
   "cell_type": "code",
   "execution_count": 95,
   "metadata": {},
   "outputs": [],
   "source": [
    "# Products containing lignocaine\n",
    "df_final_no_na_adul = df_final[df_final['Adulterants'].notnull()]\n",
    "lignocaine_products = df_final_no_na_adul[df_final_no_na_adul['Adulterants'].str.contains('Lignocaine')]"
   ]
  },
  {
   "cell_type": "code",
   "execution_count": 96,
   "metadata": {},
   "outputs": [
    {
     "data": {
      "text/html": [
       "<div>\n",
       "<style scoped>\n",
       "    .dataframe tbody tr th:only-of-type {\n",
       "        vertical-align: middle;\n",
       "    }\n",
       "\n",
       "    .dataframe tbody tr th {\n",
       "        vertical-align: top;\n",
       "    }\n",
       "\n",
       "    .dataframe thead th {\n",
       "        text-align: right;\n",
       "    }\n",
       "</style>\n",
       "<table border=\"1\" class=\"dataframe\">\n",
       "  <thead>\n",
       "    <tr style=\"text-align: right;\">\n",
       "      <th></th>\n",
       "      <th>Product Description</th>\n",
       "      <th>Dosage Form</th>\n",
       "      <th>Dosage Form Color</th>\n",
       "      <th>Dosage Form Shape</th>\n",
       "      <th>Dosage Form Marking</th>\n",
       "      <th>Remarks for Dosage Form Marking</th>\n",
       "      <th>Adulterants</th>\n",
       "      <th>Has Chinese Char</th>\n",
       "    </tr>\n",
       "  </thead>\n",
       "  <tbody>\n",
       "    <tr>\n",
       "      <th>29</th>\n",
       "      <td>De Guo Jin Gang Pen (德国金刚喷)</td>\n",
       "      <td>Liquid (External Use)</td>\n",
       "      <td>Brown</td>\n",
       "      <td>NaN</td>\n",
       "      <td>No</td>\n",
       "      <td>NaN</td>\n",
       "      <td>Lignocaine</td>\n",
       "      <td>1</td>\n",
       "    </tr>\n",
       "    <tr>\n",
       "      <th>35</th>\n",
       "      <td>French Silver Fox 2800mg Powder (法国银狐)</td>\n",
       "      <td>Powder (Internal Use)</td>\n",
       "      <td>White</td>\n",
       "      <td>NaN</td>\n",
       "      <td>No</td>\n",
       "      <td>NaN</td>\n",
       "      <td>Lignocaine</td>\n",
       "      <td>1</td>\n",
       "    </tr>\n",
       "    <tr>\n",
       "      <th>39</th>\n",
       "      <td>High-Powered Spray (威の猛男用延时喷剂)</td>\n",
       "      <td>Spray</td>\n",
       "      <td>NaN</td>\n",
       "      <td>NaN</td>\n",
       "      <td>No</td>\n",
       "      <td>NaN</td>\n",
       "      <td>Lignocaine</td>\n",
       "      <td>1</td>\n",
       "    </tr>\n",
       "    <tr>\n",
       "      <th>64</th>\n",
       "      <td>Kang Li Brand Zhong Hua Niu Bian 1500mg Capsul...</td>\n",
       "      <td>Capsule</td>\n",
       "      <td>Grey ;Orange</td>\n",
       "      <td>Oblong</td>\n",
       "      <td>No</td>\n",
       "      <td>NaN</td>\n",
       "      <td>Glibenclamide ;Lignocaine ;Norethisterone ;Sib...</td>\n",
       "      <td>1</td>\n",
       "    </tr>\n",
       "    <tr>\n",
       "      <th>68</th>\n",
       "      <td>Kangli Brand JinBa Men 2500mg (康力牌劲霸男人)</td>\n",
       "      <td>Capsule</td>\n",
       "      <td>Black ;Gold</td>\n",
       "      <td>Oblong&amp; Round</td>\n",
       "      <td>Yes</td>\n",
       "      <td>KANGLI 速效壮阳</td>\n",
       "      <td>Lignocaine ;Naproxen ;Sildenafil</td>\n",
       "      <td>1</td>\n",
       "    </tr>\n",
       "    <tr>\n",
       "      <th>84</th>\n",
       "      <td>Li Long Brand Mei Guo Zhan Shen 2500mg Capsule...</td>\n",
       "      <td>Capsule</td>\n",
       "      <td>Beige ;Red</td>\n",
       "      <td>Oblong</td>\n",
       "      <td>No</td>\n",
       "      <td>NaN</td>\n",
       "      <td>Lignocaine ;Sildenafil ;Tadalafil</td>\n",
       "      <td>1</td>\n",
       "    </tr>\n",
       "    <tr>\n",
       "      <th>89</th>\n",
       "      <td>Li Zhi Yuan Brand Qiang Jing Wei Ge Wang Wu Bi...</td>\n",
       "      <td>Tablet</td>\n",
       "      <td>Blue</td>\n",
       "      <td>Diamond</td>\n",
       "      <td>Yes</td>\n",
       "      <td>800mg</td>\n",
       "      <td>Lignocaine ;Sildenafil ;Tadalafil ;Theophyllin...</td>\n",
       "      <td>1</td>\n",
       "    </tr>\n",
       "    <tr>\n",
       "      <th>97</th>\n",
       "      <td>Mei Guo Zhan Shen Wai Yong Shen You (美国战神外用神油)</td>\n",
       "      <td>Liquid (External Use)</td>\n",
       "      <td>Brown</td>\n",
       "      <td>NaN</td>\n",
       "      <td>No</td>\n",
       "      <td>NaN</td>\n",
       "      <td>Lignocaine ;Verapamil</td>\n",
       "      <td>1</td>\n",
       "    </tr>\n",
       "    <tr>\n",
       "      <th>99</th>\n",
       "      <td>Migino Capsule (美人露)</td>\n",
       "      <td>Capsule</td>\n",
       "      <td>Transparent</td>\n",
       "      <td>Oblong</td>\n",
       "      <td>No</td>\n",
       "      <td>NaN</td>\n",
       "      <td>Lignocaine</td>\n",
       "      <td>1</td>\n",
       "    </tr>\n",
       "    <tr>\n",
       "      <th>107</th>\n",
       "      <td>Posh For Men Only Capsule (寳士情人秘膏)</td>\n",
       "      <td>Liquid (External Use)</td>\n",
       "      <td>Transparent</td>\n",
       "      <td>Oblong</td>\n",
       "      <td>No</td>\n",
       "      <td>NaN</td>\n",
       "      <td>Lignocaine</td>\n",
       "      <td>1</td>\n",
       "    </tr>\n",
       "    <tr>\n",
       "      <th>121</th>\n",
       "      <td>Sex Fairy Female Sexual Appetite Powder 3g (性精灵)</td>\n",
       "      <td>Powder (Internal Use)</td>\n",
       "      <td>White</td>\n",
       "      <td>NaN</td>\n",
       "      <td>No</td>\n",
       "      <td>NaN</td>\n",
       "      <td>Lignocaine</td>\n",
       "      <td>1</td>\n",
       "    </tr>\n",
       "    <tr>\n",
       "      <th>130</th>\n",
       "      <td>Sheng Yang Brand Zhong Hua Niu Bian 800mg Tabl...</td>\n",
       "      <td>Tablet</td>\n",
       "      <td>Yellow</td>\n",
       "      <td>Teardrop</td>\n",
       "      <td>Yes</td>\n",
       "      <td>C80</td>\n",
       "      <td>Lignocaine ;Sildenafil</td>\n",
       "      <td>1</td>\n",
       "    </tr>\n",
       "    <tr>\n",
       "      <th>159</th>\n",
       "      <td>Wake Spray (金刚壹號)</td>\n",
       "      <td>Spray</td>\n",
       "      <td>NaN</td>\n",
       "      <td>NaN</td>\n",
       "      <td>No</td>\n",
       "      <td>NaN</td>\n",
       "      <td>Lignocaine</td>\n",
       "      <td>1</td>\n",
       "    </tr>\n",
       "    <tr>\n",
       "      <th>178</th>\n",
       "      <td>ZhengHao Brand King of Postponing Spray (延时王)</td>\n",
       "      <td>Spray</td>\n",
       "      <td>NaN</td>\n",
       "      <td>NaN</td>\n",
       "      <td>No</td>\n",
       "      <td>NaN</td>\n",
       "      <td>Lignocaine ;Sildenafil</td>\n",
       "      <td>1</td>\n",
       "    </tr>\n",
       "    <tr>\n",
       "      <th>179</th>\n",
       "      <td>ZhengHao Brand King of Postponing Spray (延时王)</td>\n",
       "      <td>Spray</td>\n",
       "      <td>NaN</td>\n",
       "      <td>NaN</td>\n",
       "      <td>No</td>\n",
       "      <td>NaN</td>\n",
       "      <td>Lignocaine ;Sildenafil</td>\n",
       "      <td>1</td>\n",
       "    </tr>\n",
       "    <tr>\n",
       "      <th>183</th>\n",
       "      <td>Ali Baba</td>\n",
       "      <td>Tablet</td>\n",
       "      <td>Brown</td>\n",
       "      <td>NaN</td>\n",
       "      <td>No</td>\n",
       "      <td>NaN</td>\n",
       "      <td>Lignocaine</td>\n",
       "      <td>0</td>\n",
       "    </tr>\n",
       "    <tr>\n",
       "      <th>189</th>\n",
       "      <td>Champ</td>\n",
       "      <td>Capsule</td>\n",
       "      <td>White</td>\n",
       "      <td>Oblong</td>\n",
       "      <td>No</td>\n",
       "      <td>NaN</td>\n",
       "      <td>Lignocaine</td>\n",
       "      <td>0</td>\n",
       "    </tr>\n",
       "    <tr>\n",
       "      <th>210</th>\n",
       "      <td>Midnight Express Men Lasting Cologne</td>\n",
       "      <td>Liquid (External Use)</td>\n",
       "      <td>Brown</td>\n",
       "      <td>NaN</td>\n",
       "      <td>No</td>\n",
       "      <td>NaN</td>\n",
       "      <td>Lignocaine</td>\n",
       "      <td>0</td>\n",
       "    </tr>\n",
       "    <tr>\n",
       "      <th>223</th>\n",
       "      <td>Samsu Super Oil</td>\n",
       "      <td>Liquid (External Use)</td>\n",
       "      <td>Brown</td>\n",
       "      <td>NaN</td>\n",
       "      <td>No</td>\n",
       "      <td>NaN</td>\n",
       "      <td>Lignocaine</td>\n",
       "      <td>0</td>\n",
       "    </tr>\n",
       "    <tr>\n",
       "      <th>236</th>\n",
       "      <td>Tosan Splay Daito</td>\n",
       "      <td>Liquid (Internal Use)</td>\n",
       "      <td>Yellow</td>\n",
       "      <td>NaN</td>\n",
       "      <td>No</td>\n",
       "      <td>NaN</td>\n",
       "      <td>Lignocaine</td>\n",
       "      <td>0</td>\n",
       "    </tr>\n",
       "    <tr>\n",
       "      <th>240</th>\n",
       "      <td>Vitgo Oil</td>\n",
       "      <td>Liquid (External Use)</td>\n",
       "      <td>Brown</td>\n",
       "      <td>NaN</td>\n",
       "      <td>No</td>\n",
       "      <td>NaN</td>\n",
       "      <td>Lignocaine</td>\n",
       "      <td>0</td>\n",
       "    </tr>\n",
       "  </tbody>\n",
       "</table>\n",
       "</div>"
      ],
      "text/plain": [
       "                                   Product Description            Dosage Form  \\\n",
       "29                         De Guo Jin Gang Pen (德国金刚喷)  Liquid (External Use)   \n",
       "35              French Silver Fox 2800mg Powder (法国银狐)  Powder (Internal Use)   \n",
       "39                      High-Powered Spray (威の猛男用延时喷剂)                  Spray   \n",
       "64   Kang Li Brand Zhong Hua Niu Bian 1500mg Capsul...                Capsule   \n",
       "68             Kangli Brand JinBa Men 2500mg (康力牌劲霸男人)                Capsule   \n",
       "84   Li Long Brand Mei Guo Zhan Shen 2500mg Capsule...                Capsule   \n",
       "89   Li Zhi Yuan Brand Qiang Jing Wei Ge Wang Wu Bi...                 Tablet   \n",
       "97      Mei Guo Zhan Shen Wai Yong Shen You (美国战神外用神油)  Liquid (External Use)   \n",
       "99                                Migino Capsule (美人露)                Capsule   \n",
       "107                 Posh For Men Only Capsule (寳士情人秘膏)  Liquid (External Use)   \n",
       "121   Sex Fairy Female Sexual Appetite Powder 3g (性精灵)  Powder (Internal Use)   \n",
       "130  Sheng Yang Brand Zhong Hua Niu Bian 800mg Tabl...                 Tablet   \n",
       "159                                  Wake Spray (金刚壹號)                  Spray   \n",
       "178      ZhengHao Brand King of Postponing Spray (延时王)                  Spray   \n",
       "179      ZhengHao Brand King of Postponing Spray (延时王)                  Spray   \n",
       "183                                           Ali Baba                 Tablet   \n",
       "189                                              Champ                Capsule   \n",
       "210               Midnight Express Men Lasting Cologne  Liquid (External Use)   \n",
       "223                                    Samsu Super Oil  Liquid (External Use)   \n",
       "236                                  Tosan Splay Daito  Liquid (Internal Use)   \n",
       "240                                          Vitgo Oil  Liquid (External Use)   \n",
       "\n",
       "    Dosage Form Color Dosage Form Shape Dosage Form Marking  \\\n",
       "29              Brown               NaN                  No   \n",
       "35              White               NaN                  No   \n",
       "39                NaN               NaN                  No   \n",
       "64       Grey ;Orange            Oblong                  No   \n",
       "68        Black ;Gold     Oblong& Round                 Yes   \n",
       "84         Beige ;Red            Oblong                  No   \n",
       "89               Blue           Diamond                 Yes   \n",
       "97              Brown               NaN                  No   \n",
       "99        Transparent            Oblong                  No   \n",
       "107       Transparent            Oblong                  No   \n",
       "121             White               NaN                  No   \n",
       "130            Yellow          Teardrop                 Yes   \n",
       "159               NaN               NaN                  No   \n",
       "178               NaN               NaN                  No   \n",
       "179               NaN               NaN                  No   \n",
       "183             Brown               NaN                  No   \n",
       "189             White            Oblong                  No   \n",
       "210             Brown               NaN                  No   \n",
       "223             Brown               NaN                  No   \n",
       "236            Yellow               NaN                  No   \n",
       "240             Brown               NaN                  No   \n",
       "\n",
       "    Remarks for Dosage Form Marking  \\\n",
       "29                              NaN   \n",
       "35                              NaN   \n",
       "39                              NaN   \n",
       "64                              NaN   \n",
       "68                      KANGLI 速效壮阳   \n",
       "84                              NaN   \n",
       "89                            800mg   \n",
       "97                              NaN   \n",
       "99                              NaN   \n",
       "107                             NaN   \n",
       "121                             NaN   \n",
       "130                             C80   \n",
       "159                             NaN   \n",
       "178                             NaN   \n",
       "179                             NaN   \n",
       "183                             NaN   \n",
       "189                             NaN   \n",
       "210                             NaN   \n",
       "223                             NaN   \n",
       "236                             NaN   \n",
       "240                             NaN   \n",
       "\n",
       "                                           Adulterants  Has Chinese Char  \n",
       "29                                          Lignocaine                 1  \n",
       "35                                          Lignocaine                 1  \n",
       "39                                          Lignocaine                 1  \n",
       "64   Glibenclamide ;Lignocaine ;Norethisterone ;Sib...                 1  \n",
       "68                    Lignocaine ;Naproxen ;Sildenafil                 1  \n",
       "84                   Lignocaine ;Sildenafil ;Tadalafil                 1  \n",
       "89   Lignocaine ;Sildenafil ;Tadalafil ;Theophyllin...                 1  \n",
       "97                               Lignocaine ;Verapamil                 1  \n",
       "99                                          Lignocaine                 1  \n",
       "107                                         Lignocaine                 1  \n",
       "121                                         Lignocaine                 1  \n",
       "130                             Lignocaine ;Sildenafil                 1  \n",
       "159                                         Lignocaine                 1  \n",
       "178                             Lignocaine ;Sildenafil                 1  \n",
       "179                             Lignocaine ;Sildenafil                 1  \n",
       "183                                         Lignocaine                 0  \n",
       "189                                         Lignocaine                 0  \n",
       "210                                         Lignocaine                 0  \n",
       "223                                         Lignocaine                 0  \n",
       "236                                         Lignocaine                 0  \n",
       "240                                         Lignocaine                 0  "
      ]
     },
     "execution_count": 96,
     "metadata": {},
     "output_type": "execute_result"
    }
   ],
   "source": [
    "lignocaine_products"
   ]
  },
  {
   "cell_type": "code",
   "execution_count": 109,
   "metadata": {},
   "outputs": [
    {
     "data": {
      "image/png": "[encoded data removed]",
      "text/plain": [
       "<Figure size 576x432 with 1 Axes>"
      ]
     },
     "metadata": {},
     "output_type": "display_data"
    }
   ],
   "source": [
    "plt.figure(figsize=(8,6))\n",
    "\n",
    "plot7 = sns.countplot(y='Dosage Form',data=lignocaine_products, color='steelblue', orient='h', order=lignocaine_products['Dosage Form'].value_counts().index)\n",
    "plt.title('Dosage Form Distribution of Lignocaine products', fontsize=15);\n",
    "plot7.tick_params(labelsize=15)\n",
    "plot7.set_xlabel(\"Number of Line Items\",fontsize=15)\n",
    "#plot3.set_ylabel(\"Dosage Form Shape\",fontsize=15)\n",
    "plot7.set_ylabel(\" \",fontsize=15)\n",
    "plt.savefig('Images/Lignocaine Dosage Form.png',bbox_inches='tight')\n",
    "plt.show()"
   ]
  },
  {
   "cell_type": "code",
   "execution_count": null,
   "metadata": {},
   "outputs": [],
   "source": []
  }
 ],
 "metadata": {
  "kernelspec": {
   "display_name": "Python 3",
   "language": "python",
   "name": "python3"
  },
  "language_info": {
   "codemirror_mode": {
    "name": "ipython",
    "version": 3
   },
   "file_extension": ".py",
   "mimetype": "text/x-python",
   "name": "python",
   "nbconvert_exporter": "python",
   "pygments_lexer": "ipython3",
   "version": "3.7.7"
  }
 },
 "nbformat": 4,
 "nbformat_minor": 4
}
